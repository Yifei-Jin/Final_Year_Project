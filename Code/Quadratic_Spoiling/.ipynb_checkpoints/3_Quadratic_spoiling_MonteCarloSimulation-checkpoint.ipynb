{
 "cells": [
  {
   "cell_type": "markdown",
   "id": "a2bf463a-6098-468e-9085-60e4c248bb47",
   "metadata": {},
   "source": [
    "# Quadratic RF Spoiling bSSFP #"
   ]
  },
  {
   "cell_type": "code",
   "execution_count": 1,
   "id": "1fe24af9-1161-40f7-955a-2239af3b8263",
   "metadata": {},
   "outputs": [],
   "source": [
    "import numpy as np\n",
    "import math\n",
    "import random\n",
    "import matplotlib.pyplot as plt\n",
    "from scipy.fft import fft\n",
    "from scipy.optimize import curve_fit\n",
    "\n",
    "import pandas as pd\n",
    "import openpyxl"
   ]
  },
  {
   "cell_type": "code",
   "execution_count": 2,
   "id": "5902cd5e-7bfe-49c7-b74f-d4b3febdc843",
   "metadata": {},
   "outputs": [],
   "source": [
    "# FUNCTIONS\n",
    "#RF pulse excitation matrix\n",
    "def RF_pulse(alpha, phi):\n",
    "    #The RF pulse tip the spin \"alpha\" degree from z axis\n",
    "    #and a phase shift of \"phi\" degree clockwise from x axis\n",
    "    \n",
    "    #convert in to radians \n",
    "    a = math.radians(alpha)\n",
    "    p = math.radians(phi)\n",
    "    #each term of the matrix\n",
    "    r11 = math.cos(a)*math.sin(p)**2 + math.cos(p)**2\n",
    "    r12 = (1 - math.cos(a))*math.cos(p)*math.sin(p)\n",
    "    r13 = - math.sin(a)*math.sin(p)\n",
    "    r21 = (1 - math.cos(a))*math.cos(p)*math.sin(p)\n",
    "    r22 = math.cos(a)*math.cos(p)**2 + math.sin(p)**2\n",
    "    r23 = math.sin(a)*math.cos(p)\n",
    "    r31 = math.sin(a)*math.sin(p)\n",
    "    r32 = - math.sin(a)*math.cos(p)\n",
    "    r33 = math.cos(a)\n",
    "    R = np.asarray([[r11,r12,r13],[r21,r22,r23],[r31,r32,r33]], dtype = float)\n",
    "    \n",
    "    return R\n",
    "\n",
    "#T1 recovery, T2 decay terms effect for time t\n",
    "def Relaxation(t, T1, T2):\n",
    "    e2 = np.exp(-t/T2)\n",
    "    e1 = np.exp(-t/T1)\n",
    "    E = np.asarray([[e2 , 0, 0],[0, e2, 0],[0, 0, e1]], dtype = float)\n",
    "    \n",
    "    return E\n",
    "\n",
    "#Precession term effect on off-resonance (f_off Hz) spin at time t\n",
    "def Precession(f_off, t):\n",
    "    #free-precession angle beta\n",
    "    b = f_off*t*2*math.pi\n",
    "    #rad\n",
    "    #b = math.radians(beta)\n",
    "    P = np.asarray([[math.cos(b), math.sin(b), 0],[-math.sin(b), math.cos(b), 0],[0, 0, 1]], dtype = float)\n",
    "    \n",
    "    return P\n",
    "\n",
    "#Calculate the phase shift for current TR (quadratic spoiling)\n",
    "def QuadraticPhase(N, n):\n",
    "    n = n%N\n",
    "    phi_quad = 360/N\n",
    "    phase = phi_quad*n*n/2\n",
    " \n",
    "    #in degree\n",
    "    return phase\n",
    "\n",
    "\n",
    "    "
   ]
  },
  {
   "cell_type": "markdown",
   "id": "57eff224-f1e7-4d53-ad63-d9dd638ac4e7",
   "metadata": {},
   "source": [
    "<p>Parameters T1, T2, TR, TE, tip angle, period, initial magnetisation. <p/>\n",
    "<p>phase $\\phi_n =\\frac{n^2 \\times \\phi_{quad}}{2} $ <p/>"
   ]
  },
  {
   "cell_type": "markdown",
   "id": "238fa75f-4b6f-4803-a1f7-a5c9c5b381f1",
   "metadata": {},
   "source": [
    "# quadatic RF spoiling bSSFP data simulation function #\n"
   ]
  },
  {
   "cell_type": "code",
   "execution_count": 4,
   "id": "88815a02-8699-4486-896b-d416ea2fd872",
   "metadata": {
    "tags": []
   },
   "outputs": [],
   "source": [
    "#return \n",
    "#transverse steady state magnitude at different off-resonance frequency (column) and when acquire at different TR (row)\n",
    "#corresponding off-resonance frequency\n",
    "\n",
    "\n",
    "def bSSFPSimulation(T1, T2, off_res_max, TR, TE, tip_angle, Period, M0, dataAcquire, TRnum, Noise):\n",
    "    #store value\n",
    "    off_resonance_f = np.asarray([], dtype = int)\n",
    "    M_complex_steady_all = np.asarray(np.zeros((dataAcquire,1)), dtype = float)\n",
    "\n",
    "\n",
    "    #Find steady state value for different off-resonance \n",
    "    #f_off = 200 is next period, so here we only use -200~199\n",
    "    for f_off in range(-off_res_max,off_res_max,1):\n",
    "        M_pre = M0 #initial pre pulse magnetisation \n",
    "\n",
    "        #store complex transverse magnitude at different TRs\n",
    "        M_complex_steady = np.asarray([], dtype = float)\n",
    "        #store all complex transverse magnitude \n",
    "        M_complex = np.asarray([], dtype = float)\n",
    "        phase_shift = 0\n",
    "        Period_num = 0\n",
    "\n",
    "\n",
    "\n",
    "        #repeat 1000 times for each off-resonance frequency\n",
    "        for k in range(1,TRnum):\n",
    "            #Calculate phase shift (degree) for this TR\n",
    "            phase_shift = QuadraticPhase(Period, Period_num)\n",
    "            #Tip\n",
    "            M_post = RF_pulse(tip_angle,phase_shift) @ M_pre\n",
    "\n",
    "            #Consider T1 recovery, T2 decay and precession\n",
    "            #@ time TE \n",
    "            P_TE = Precession(f_off,TE) #precession matrix at t = TE\n",
    "            E_TE = Relaxation(TE, T1, T2) #Relaxation matrix at t = TE\n",
    "\n",
    "            M_TE = P_TE @ E_TE @ M_post + (np.identity(3) - E_TE) @ M0 #magnetisation at TE\n",
    "            \n",
    "\n",
    "            #@ time TR \n",
    "            P_TR = Precession(f_off,TR) #precession matrix at t = TR\n",
    "            E_TR = Relaxation(TR, T1, T2) #Relaxation matrix at t = TR\n",
    "            M_TR = P_TR @ E_TR @ M_post + (np.identity(3) - E_TR) @ M0 #magnetisation at TR\n",
    "            #Gaussian noise added\n",
    "            if (Noise == True): \n",
    "                M_pre = M_TR + random.random()\n",
    "            else:\n",
    "                M_pre = M_TR\n",
    "\n",
    "            #store the transverse magnetisation in complex form, Mx+iMy\n",
    "            M_complex = np.append(M_complex, complex(M_TE[0],M_TE[1]))\n",
    "\n",
    "            Period_num = Period_num + 1     \n",
    "        #END\n",
    "        #take the final steady signal, store the transverse steady state signal for different off-resonance frequency\n",
    "        for state in range (1,dataAcquire+1):\n",
    "            M_complex_steady = np.append(M_complex_steady, M_complex[-state])\n",
    "        M_complex_steady = np.reshape(M_complex_steady,(dataAcquire,1))\n",
    "        M_complex_steady_all = np.append(M_complex_steady_all, M_complex_steady, axis = 1)\n",
    "        off_resonance_f = np.append(off_resonance_f, f_off)\n",
    "    #END\n",
    "    M_complex_steady_all = np.delete(M_complex_steady_all,0,1)\n",
    "    \n",
    "    return M_complex_steady_all, off_resonance_f\n",
    "\n"
   ]
  },
  {
   "cell_type": "markdown",
   "id": "2a620a90-f935-4f09-9cd0-0d5e0d06b249",
   "metadata": {},
   "source": [
    "# Simulation"
   ]
  },
  {
   "cell_type": "code",
   "execution_count": 14,
   "id": "1d00417b-bbd2-415a-bc22-61ddd9f77634",
   "metadata": {},
   "outputs": [],
   "source": [
    "# the parameters used in this simulation \n",
    "#time unit --- second\n",
    "proton_density = 1.0\n",
    "T1 = 900e-3\n",
    "T2 = 44e-3\n",
    "TR = 2.5e-3 \n",
    "TE = TR/2\n",
    "# tip angle alpha 10, 30, 90 degree\n",
    "tip_angle = 10\n",
    "#phase cycling\n",
    "Period = 7\n",
    "#initial magnetisation \n",
    "M0 = np.asarray([[0],[0],[1]],dtype = float)\n",
    "\n",
    "off_res_max = 400\n",
    "#Rep_num = off_res_max*2/(1/TR)\n",
    "dataAcquire = 1\n",
    "TRnum = 500\n",
    "\n",
    "#T2* range 13 ms to 53 ms\n",
    "T2s_max = 53\n",
    "T2s_min = 13\n",
    "T2p = np.asarray([], dtype = float)\n",
    "\n",
    "for i in range (T2s_min, T2s_max):\n",
    "    if ((i != (T2*1000)) and (i != 0)):\n",
    "        T2p = np.append(T2p, 1/((1000/i)-1/T2))\n",
    "#number of simulation run\n",
    "testnumber = 10\n",
    "Noise = True"
   ]
  },
  {
   "cell_type": "code",
   "execution_count": 15,
   "id": "ae4f849b-d844-4b56-acaf-65fa5d2b6610",
   "metadata": {
    "tags": []
   },
   "outputs": [],
   "source": [
    "#Define arrays for store information ---------------------------\n",
    "index = np.asarray([], dtype = str)\n",
    "for i in range (1,testnumber+1):\n",
    "    index = np.append(index, str(i))\n",
    "    \n",
    "#200*(T2'number) matrix storing T2* ground truth and measured --> used to calculate error later \n",
    "T2s_gt_all = np.asarray(np.zeros((1,np.shape(T2p)[0])), dtype = float)\n",
    "T2s_m_all = np.asarray(np.zeros((1,np.shape(T2p)[0])), dtype = float)\n",
    "#200*2 matrix storing mean error and sd\n",
    "ErrorMeanSd = np.asarray(np.zeros((1,2)), dtype = float)\n",
    "\n",
    "#Start run simulation-----------------------------------------------\n",
    "for test in range (1,testnumber+1):\n",
    "    #Generate bSSFP off-resonance profile using Bloch simulation \n",
    "    M_transverse, off_resonance_f = bSSFPSimulation(T1, T2, off_res_max, TR, TE, tip_angle, Period, M0, dataAcquire, TRnum, Noise)\n",
    "\n",
    "    #Fourier transform of the off-resonance profile --> contribution from each F-state\n",
    "    S_F = np.fft.fft(M_transverse)\n",
    "    S_F = np.absolute(S_F)\n",
    "    S_F = np.fft.fftshift(S_F)\n",
    "\n",
    "    F_state = np.fft.fftfreq(M_transverse.shape[-1], d = 1.0)\n",
    "    F_state = np.fft.fftshift(F_state)*M_transverse.shape[-1]\n",
    "\n",
    "    #Add field inhomogeneous T2'\n",
    "    #Recording ground truth T2* and calculated T2*\n",
    "    T2Star_GT = np.asarray([], dtype = float)\n",
    "    T2Star_measured = np.asarray([], dtype = float)\n",
    "    S_F_1 = S_F[0,:]\n",
    "    \n",
    "\n",
    "    for T2_inhom in T2p:\n",
    "        if ((T2_inhom != 0) and (T2_inhom != -T2)):\n",
    "            #-----------------Calculate Ground Truth T2*---------------------------------------------------\n",
    "            T2Star_GT = np.append(T2Star_GT, 1/((1/T2)+(1/T2_inhom)))\n",
    "\n",
    "            #-----------------Calculate the T2* from simulation data (measured T2*)------------------------\n",
    "            #recorded 6 F-states (due to the use of Bloch simulation, these F-states magnitude can only fit a T2 decay curve)\n",
    "            F_t2 = np.asarray([], dtype = float)\n",
    "            F_t2_statenum = np.asarray([], dtype = float)\n",
    "            F_state = np.round(F_state).astype(int) #round F-state all to integer \n",
    "\n",
    "            for i in range (0,7):\n",
    "                F_index = np.where(F_state == float(-1-2*i))\n",
    "\n",
    "                F_t2_statenum = np.append(F_t2_statenum, i)\n",
    "                F_t2 = np.append(F_t2, S_F_1[F_index])\n",
    "                # print('F-state:'+ str(i) +' S_F:'+ str(S_F[F_index]))\n",
    "            #End\n",
    "\n",
    "            #Add field inhomogeneous in each voxel\n",
    "            F_t2star = np.asarray([], dtype = float)\n",
    "            time = np.asarray([], dtype = float)\n",
    "            ## time = TE+F*TR\n",
    "            time = TE*np.ones(np.shape(F_t2_statenum))+ F_t2_statenum *TR\n",
    "            F_t2star = F_t2 *np.exp(-time/T2_inhom)\n",
    "\n",
    "            #https://docs.scipy.org/doc/scipy/reference/generated/scipy.optimize.curve_fit.html\n",
    "            #exponential curve fitting to find T2* value\n",
    "            def func(t, A, R2Star):\n",
    "                return A * np.exp(-R2Star * t)\n",
    "            #fitted coefficient stored in popt:[A R2*] --> T2* = 1/R2*\n",
    "            popt, pcov = curve_fit(func, time, F_t2star)\n",
    "            T2Star_measured = np.append(T2Star_measured, 1/popt[1])\n",
    "            \n",
    "        #if End\n",
    "    #For End\n",
    "    #calculate error\n",
    "    T2s_gt_all = np.append(T2s_gt_all, [T2Star_GT], axis = 0)\n",
    "    T2s_m_all = np.append(T2s_m_all, [T2Star_measured], axis = 0)\n",
    "    Error_test = np.square(T2Star_GT-T2Star_measured)\n",
    "    ErrorMeanSd = np.append(ErrorMeanSd, [(np.mean(Error_test), np.std(Error_test))], axis = 0)\n",
    "#For End\n",
    "ErrorMeanSd = np.delete(ErrorMeanSd, 0, 0)\n",
    "T2s_gt_all = np.delete(T2s_gt_all, 0, 0)\n",
    "T2s_m_all = np.delete(T2s_m_all, 0, 0)\n",
    "Error = T2s_m_all-T2s_gt_all\n",
    "\n",
    "    "
   ]
  },
  {
   "cell_type": "code",
   "execution_count": 16,
   "id": "009c996d-6c57-4b29-933b-fc9eb39d39ef",
   "metadata": {},
   "outputs": [],
   "source": [
    "\n",
    "#store data in excel\n",
    "error = pd.DataFrame(Error, index )\n",
    "groundtruth = pd.DataFrame(T2s_gt_all, index )\n",
    "measured = pd.DataFrame(T2s_m_all, index )\n",
    "error_mean_sd = pd.DataFrame(ErrorMeanSd,\n",
    "                  index, columns=['Mean Error', 'Standard Deviation'])\n",
    "\n",
    "with pd.ExcelWriter('SimulatedData7PeriodNoise.xlsx') as writer:\n",
    "    error.to_excel(writer, sheet_name='Error')\n",
    "    error_mean_sd.to_excel(writer, sheet_name='Error_mean_sd')\n",
    "    groundtruth.to_excel(writer, sheet_name='Ground_Truth_T2_Star')\n",
    "    measured.to_excel(writer, sheet_name='Measured_Truth_T2_Star')\n",
    "   "
   ]
  },
  {
   "cell_type": "code",
   "execution_count": 17,
   "id": "db5eb8b5-f8be-455c-9d61-b010c776fd38",
   "metadata": {},
   "outputs": [
    {
     "data": {
      "image/png": "[encoded data removed]",
      "text/plain": [
       "<Figure size 432x288 with 1 Axes>"
      ]
     },
     "metadata": {
      "needs_background": "light"
     },
     "output_type": "display_data"
    }
   ],
   "source": [
    "plt.figure(1)\n",
    "plt.xlabel(\"T2* Ground Truth\")\n",
    "plt.ylabel(\"T2* Measured\")\n",
    "x1 = np.array([-2,5])\n",
    "y1 = np.array([-2,5])\n",
    "plt.plot(x1,y1,c = '#4CAF50')\n",
    "plt.xlim(10e-3, 100e-3)\n",
    "plt.ylim(10e-3, 100e-3)\n",
    "plt.grid()\n",
    "for i in range (0,testnumber):\n",
    "    plt.scatter(T2s_gt_all[i,:], T2s_m_all[i,:])\n",
    "    \n",
    "plt.savefig(\".\\SevenPeriod_WithNoise.jpg\") "
   ]
  },
  {
   "cell_type": "code",
   "execution_count": 94,
   "id": "4084577e-e2ee-4bc4-a5d3-cdb29d18a302",
   "metadata": {},
   "outputs": [
    {
     "ename": "IndexError",
     "evalue": "too many indices for array: array is 1-dimensional, but 2 were indexed",
     "output_type": "error",
     "traceback": [
      "\u001b[1;31m---------------------------------------------------------------------------\u001b[0m",
      "\u001b[1;31mIndexError\u001b[0m                                Traceback (most recent call last)",
      "Input \u001b[1;32mIn [94]\u001b[0m, in \u001b[0;36m<cell line: 11>\u001b[1;34m()\u001b[0m\n\u001b[0;32m      7\u001b[0m F_state \u001b[38;5;241m=\u001b[39m np\u001b[38;5;241m.\u001b[39mfft\u001b[38;5;241m.\u001b[39mfftshift(F_state)\u001b[38;5;241m*\u001b[39mM_transverse\u001b[38;5;241m.\u001b[39mshape[\u001b[38;5;241m-\u001b[39m\u001b[38;5;241m1\u001b[39m]\n\u001b[0;32m     10\u001b[0m fig, axs  \u001b[38;5;241m=\u001b[39m plt\u001b[38;5;241m.\u001b[39msubplots(dataAcquire,\u001b[38;5;241m2\u001b[39m,figsize\u001b[38;5;241m=\u001b[39m(\u001b[38;5;241m15\u001b[39m, \u001b[38;5;241m15\u001b[39m))\n\u001b[1;32m---> 11\u001b[0m \u001b[43maxs\u001b[49m\u001b[43m[\u001b[49m\u001b[38;5;241;43m0\u001b[39;49m\u001b[43m,\u001b[49m\u001b[38;5;241;43m0\u001b[39;49m\u001b[43m]\u001b[49m\u001b[38;5;241m.\u001b[39mset_title(\u001b[38;5;124m\"\u001b[39m\u001b[38;5;124moff-resonance profile\u001b[39m\u001b[38;5;124m\"\u001b[39m)\n\u001b[0;32m     12\u001b[0m axs[\u001b[38;5;241m0\u001b[39m,\u001b[38;5;241m1\u001b[39m]\u001b[38;5;241m.\u001b[39mset_title(\u001b[38;5;124m\"\u001b[39m\u001b[38;5;124mFstate of \u001b[39m\u001b[38;5;124m\"\u001b[39m \u001b[38;5;241m+\u001b[39m \u001b[38;5;28mstr\u001b[39m(Period)\u001b[38;5;241m+\u001b[39m \u001b[38;5;124m\"\u001b[39m\u001b[38;5;124m period\u001b[39m\u001b[38;5;124m\"\u001b[39m)\n\u001b[0;32m     13\u001b[0m \u001b[38;5;28;01mfor\u001b[39;00m i \u001b[38;5;129;01min\u001b[39;00m \u001b[38;5;28mrange\u001b[39m (\u001b[38;5;241m0\u001b[39m,dataAcquire):\n",
      "\u001b[1;31mIndexError\u001b[0m: too many indices for array: array is 1-dimensional, but 2 were indexed"
     ]
    },
    {
     "data": {
      "image/png": "[encoded data removed]",
      "text/plain": [
       "<Figure size 1080x1080 with 2 Axes>"
      ]
     },
     "metadata": {
      "needs_background": "light"
     },
     "output_type": "display_data"
    }
   ],
   "source": [
    "#Fourier transform of the off-resonance profile --> contribution from each F-state\n",
    "S_F = np.fft.fft(M_transverse)\n",
    "S_F = np.absolute(S_F)\n",
    "S_F = np.fft.fftshift(S_F)\n",
    "\n",
    "F_state = np.fft.fftfreq(M_transverse.shape[-1], d = 1.0)\n",
    "F_state = np.fft.fftshift(F_state)*M_transverse.shape[-1]\n",
    "\n",
    "\n",
    "fig, axs  = plt.subplots(dataAcquire,2,figsize=(15, 15))\n",
    "axs[0,0].set_title(\"off-resonance profile\")\n",
    "axs[0,1].set_title(\"Fstate of \" + str(Period)+ \" period\")\n",
    "for i in range (0,dataAcquire):\n",
    "    axs[i,0].plot(off_resonance_f, np.absolute(M_transverse[i,:]))\n",
    "    axs[i,0].set_xlabel(\"off resonance frequency (Hz)\")\n",
    "    axs[i,0].set_ylabel(\"$|M_{xy}|$\")\n",
    "    \n",
    "\n",
    "\n",
    "    axs[i,1].bar(F_state, S_F[i,:])\n",
    "    axs[i,1].set_xlim([-10,10])\n",
    "    axs[i,1].set_xlabel(\"F state\")\n",
    "    axs[i,1].set_ylabel(\"$S_F$\")\n",
    "#plt.savefig(\".\\OffresProfileANDFstateProfile_\" +\"period4_TRnum500.jpg\") "
   ]
  },
  {
   "cell_type": "code",
   "execution_count": 10,
   "id": "ed7f14d6-b358-4d42-99ca-6c892f183fe9",
   "metadata": {},
   "outputs": [
    {
     "data": {
      "text/plain": [
       "(800,)"
      ]
     },
     "execution_count": 10,
     "metadata": {},
     "output_type": "execute_result"
    }
   ],
   "source": [
    "np.shape(S_F[1,:])"
   ]
  },
  {
   "cell_type": "code",
   "execution_count": 103,
   "id": "2b51cca8-a360-479d-ba47-15942450500a",
   "metadata": {},
   "outputs": [
    {
     "data": {
      "text/plain": [
       "<Figure size 432x288 with 0 Axes>"
      ]
     },
     "metadata": {},
     "output_type": "display_data"
    }
   ],
   "source": []
  },
  {
   "cell_type": "markdown",
   "id": "0af4bd51-d908-4fe5-8831-fd486c3fb49f",
   "metadata": {
    "tags": []
   },
   "source": [
    "## "
   ]
  },
  {
   "cell_type": "markdown",
   "id": "8f8f4221-61b3-42a4-b27a-82e805650eb6",
   "metadata": {},
   "source": [
    "# Measured & Ground Truth T2* calculation #\n",
    "<p>Calculate T2* ground truth and T2* measured stored in \"T2Star_measured\" and \"T2Star_GT\" </p>\n",
    "<p><b>The Parkinson's Disease T2, T2* coefficient: </b></p>\n",
    "<p> T1 = 878ms, T2 = 55ms, T2* = 53ms </p>\n",
    "<p><b>The Healthy Controls T2, T2* coefficient: </b></p>\n",
    "<p> T1 = 893ms, T2 = 33ms, T2* = 13ms </p>\n",
    "<p>Using the equation $\\frac{1}{T2'} = \\frac{1}{T2*}-\\frac{1}{T2}$</p>\n",
    "<p>take average T2 = $\\frac{55+33}{2} = 44 ms$ </p>\n",
    "<p>$\\frac{1}{T2'} = \\frac{1}{T2*}-\\frac{1}{44 ms}$</p>\n",
    "<p>T2* in range 13 ms to 53 ms when T2' is greater than 0.0185, or smaller than -0.2591 </p>\n",
    "<p>T2' in range 15 ms to 400 ms </p>"
   ]
  },
  {
   "cell_type": "code",
   "execution_count": null,
   "id": "0f670ee3-b42b-4c68-9242-107fc4bbec47",
   "metadata": {},
   "outputs": [],
   "source": []
  },
  {
   "cell_type": "code",
   "execution_count": 11,
   "id": "2f85a54f-d862-49cf-8c5f-82fac4c5d443",
   "metadata": {
    "tags": []
   },
   "outputs": [],
   "source": [
    "T2Star_GT = np.asarray([], dtype = float)\n",
    "T2Star_measured = np.asarray([], dtype = float)\n",
    "S_F_1 = S_F[0,:]\n",
    "\n",
    "for T2_inhom in range (15, 400):\n",
    "    T2_inhom = T2_inhom*1e-3\n",
    "    if ((T2_inhom != 0) and (T2_inhom != -T2)):\n",
    "        \n",
    "        #-----------------Calculate Ground Truth T2*---------------------------------------------------\n",
    "        T2Star_GT = np.append(T2Star_GT, 1/((1/T2)+(1/T2_inhom)))\n",
    "\n",
    "        #-----------------Calculate the T2* from simulation data (measured T2*)------------------------\n",
    "        #recorded 6 F-states (due to the use of Bloch simulation, these F-states magnitude can only fit a T2 decay curve)\n",
    "        F_t2 = np.asarray([], dtype = float)\n",
    "        F_t2_statenum = np.asarray([], dtype = float)\n",
    "        F_state = np.round(F_state).astype(int) #round F-state all to integer \n",
    "\n",
    "        for i in range (0,7):\n",
    "            F_index = np.where(F_state == float(-1-2*i))\n",
    "\n",
    "            F_t2_statenum = np.append(F_t2_statenum, i)\n",
    "            F_t2 = np.append(F_t2, S_F_1[F_index])\n",
    "            # print('F-state:'+ str(i) +' S_F:'+ str(S_F[F_index]))\n",
    "\n",
    "        #transfer F-states (T2 related) to F-states (T2* related)\n",
    "        F_t2star = np.asarray([], dtype = float)\n",
    "        time = np.asarray([], dtype = float)\n",
    "        ## time = TE+F*TR\n",
    "        time = TE*np.ones(np.shape(F_t2_statenum))+ F_t2_statenum *TR\n",
    "        F_t2star = F_t2 *np.exp(-time/T2_inhom)\n",
    "\n",
    "        #https://docs.scipy.org/doc/scipy/reference/generated/scipy.optimize.curve_fit.html\n",
    "        #exponential curve fitting to find T2* value\n",
    "        def func(t, A, R2Star):\n",
    "            return A * np.exp(-R2Star * t)\n",
    "        #fitted coefficient stored in popt:[A R2*] --> T2* = 1/R2*\n",
    "        popt, pcov = curve_fit(func, time, F_t2star)\n",
    "        T2Star_measured = np.append(T2Star_measured, 1/popt[1])\n",
    "\n",
    "\n",
    "    #--------------Plots----------------------------------------------------------------------------\n",
    "#     plt.figure(1)\n",
    "#     plt.title(\"F-state magnitude against F-state (T2 decay curve due to Bloch simulation)\")\n",
    "#     plt.bar(F_t2_statenum, F_t2)\n",
    "#     plt.xlabel(\"F state\")\n",
    "#     plt.ylabel(\"$S_F$\")\n",
    "\n",
    "#     plt.figure(2)\n",
    "#     plt.title(\"F-state magnitude against time (T2* decay curve)\")\n",
    "#     plt.scatter(time, F_t2star, label = '7 F-state data points')\n",
    "#     plt.plot(time, func(time, *popt),'r-', label='fit: A=%5.3f, R2*=%5.3f' % tuple(popt))\n",
    "#     plt.xlabel(\"time\")\n",
    "#     plt.ylabel(\"$F-state Magnitude$\")\n",
    "#     plt.legend()\n",
    "\n",
    "    #print('\\nT2* Ground Truth: '+str(T2Star_GT) +'\\nT2* Measured: '+ str(T2Star_measured))"
   ]
  },
  {
   "cell_type": "markdown",
   "id": "8ada5af9-c2ba-41f1-af07-07962a6220ca",
   "metadata": {},
   "source": [
    "# Plot measured T2* against ground truth T2*"
   ]
  },
  {
   "cell_type": "code",
   "execution_count": 12,
   "id": "0e302c74-3110-40e6-b15d-c1a143c0be4d",
   "metadata": {},
   "outputs": [
    {
     "data": {
      "image/png": "[encoded data removed]",
      "text/plain": [
       "<Figure size 432x288 with 1 Axes>"
      ]
     },
     "metadata": {
      "needs_background": "light"
     },
     "output_type": "display_data"
    }
   ],
   "source": [
    "plt.figure\n",
    "plt.scatter(T2Star_GT, T2Star_measured)\n",
    "plt.xlabel(\"T2* Ground Truth\")\n",
    "plt.ylabel(\"T2* Measured\")\n",
    "x1 = np.array([-2,5])\n",
    "y1 = np.array([-2,5])\n",
    "plt.plot(x1,y1,c = '#4CAF50')\n",
    "plt.xlim(10e-3, 60e-3)\n",
    "plt.ylim(-10e-3, 50e-3)\n",
    "plt.grid()\n",
    "#plt.savefig(\".\\Figure\\T2Starvalue_measuredTotruth_\" + str(Period)+\"_period.jpg\")"
   ]
  },
  {
   "cell_type": "markdown",
   "id": "c7a61407-6783-435c-b913-3fa97c3d278c",
   "metadata": {},
   "source": [
    "# Show fitting method "
   ]
  },
  {
   "cell_type": "code",
   "execution_count": 153,
   "id": "e9aaf3d9-e517-4e51-9c3a-56b180532147",
   "metadata": {},
   "outputs": [
    {
     "name": "stdout",
     "output_type": "stream",
     "text": [
      "\n",
      "T2* Ground Truth: 0.012774193548387096\n",
      "T2* Measured: 0.012847296079296784\n"
     ]
    },
    {
     "data": {
      "image/png": "[encoded data removed]",
      "text/plain": [
       "<Figure size 432x288 with 1 Axes>"
      ]
     },
     "metadata": {
      "needs_background": "light"
     },
     "output_type": "display_data"
    },
    {
     "data": {
      "image/png": "[encoded data removed]",
      "text/plain": [
       "<Figure size 432x288 with 1 Axes>"
      ]
     },
     "metadata": {
      "needs_background": "light"
     },
     "output_type": "display_data"
    }
   ],
   "source": [
    "T2_inhom = 18e-3\n",
    "\n",
    "#-----------------Calculate Ground Truth T2*---------------------------------------------------\n",
    "T2Star_GT = 1/((1/T2)+(1/T2_inhom))\n",
    "\n",
    "#-----------------Calculate the T2* from simulation data (measured T2*)------------------------\n",
    "#recorded 6 F-states (due to the use of Bloch simulation, these F-states magnitude can only fit a T2 decay curve)\n",
    "F_t2 = np.asarray([], dtype = float)\n",
    "F_t2_statenum = np.asarray([], dtype = float)\n",
    "F_state = np.round(F_state).astype(int) #round F-state all to integer \n",
    "\n",
    "for i in range (0,7):\n",
    "    F_index = np.where(F_state == float(-1-2*i))\n",
    "\n",
    "    F_t2_statenum = np.append(F_t2_statenum, i)\n",
    "    F_t2 = np.append(F_t2, S_F[F_index])\n",
    "    # print('F-state:'+ str(i) +' S_F:'+ str(S_F[F_index]))\n",
    "\n",
    "#transfer F-states (T2 related) to F-states (T2* related)\n",
    "F_t2star = np.asarray([], dtype = float)\n",
    "time = np.asarray([], dtype = float)\n",
    "## time = TE+F*TR\n",
    "time = TE*np.ones(np.shape(F_t2_statenum))+ F_t2_statenum *TR\n",
    "F_t2star = F_t2 *np.exp(-time/T2_inhom)\n",
    "\n",
    "#https://docs.scipy.org/doc/scipy/reference/generated/scipy.optimize.curve_fit.html\n",
    "#exponential curve fitting to find T2* value\n",
    "def func(t, A, R2Star):\n",
    "    return A * np.exp(-R2Star * t)\n",
    "#fitted coefficient stored in popt:[A R2*] --> T2* = 1/R2*\n",
    "popt, pcov = curve_fit(func, time, F_t2star)\n",
    "T2Star_measured = 1/popt[1]\n",
    "\n",
    "\n",
    "#--------------Plots----------------------------------------------------------------------------\n",
    "plt.figure(1)\n",
    "plt.title(\"F-state magnitude against F-state (T2 decay curve due to Bloch simulation)\")\n",
    "plt.bar(F_t2_statenum, F_t2)\n",
    "plt.xlabel(\"F state\")\n",
    "plt.ylabel(\"$S_F$\")\n",
    "plt.savefig(\".\\Figure\\FstateOf\" + str(Period)+\"_period.jpg\")\n",
    "\n",
    "plt.figure(2)\n",
    "plt.title(\"F-state magnitude against time (T2* decay curve)\")\n",
    "plt.scatter(time, F_t2star, label = '7 F-state data points')\n",
    "plt.plot(time, func(time, *popt),'r-', label='fit: A=%5.3f, R2*=%5.3f' % tuple(popt))\n",
    "plt.xlabel(\"time\")\n",
    "plt.ylabel(\"$F-state Magnitude$\")\n",
    "plt.legend()\n",
    "plt.savefig(\".\\Figure\\T2Starfit\" + str(Period)+\"_period.jpg\")\n",
    "print('\\nT2* Ground Truth: '+str(T2Star_GT) +'\\nT2* Measured: '+ str(T2Star_measured))"
   ]
  },
  {
   "cell_type": "code",
   "execution_count": null,
   "id": "3aadff23-4d65-442d-abbd-b941fbb3659a",
   "metadata": {},
   "outputs": [],
   "source": []
  },
  {
   "cell_type": "code",
   "execution_count": 55,
   "id": "4a9a8b0d-6e33-4375-8228-be0a861aaab8",
   "metadata": {},
   "outputs": [
    {
     "name": "stdout",
     "output_type": "stream",
     "text": [
      "0.0\n",
      "15.0\n",
      "60.0\n",
      "135.0\n",
      "240.0\n",
      "375.0\n",
      "540.0\n",
      "735.0\n",
      "960.0\n",
      "1215.0\n",
      "1500.0\n",
      "1815.0\n",
      "0.0\n",
      "15.0\n",
      "60.0\n",
      "135.0\n",
      "240.0\n",
      "375.0\n",
      "540.0\n",
      "735.0\n",
      "960.0\n",
      "1215.0\n",
      "1500.0\n",
      "1815.0\n"
     ]
    }
   ],
   "source": [
    "for i in range (0,24):\n",
    "    p = QuadraticPhase(12,i)\n",
    "    print(p)"
   ]
  },
  {
   "cell_type": "code",
   "execution_count": 61,
   "id": "8fb42223-f8d3-426e-a7cd-df2a9604d270",
   "metadata": {},
   "outputs": [
    {
     "data": {
      "text/plain": [
       "Text(0, 0.5, '$S_F$')"
      ]
     },
     "execution_count": 61,
     "metadata": {},
     "output_type": "execute_result"
    },
    {
     "data": {
      "image/png": "[encoded data removed]",
      "text/plain": [
       "<Figure size 432x288 with 1 Axes>"
      ]
     },
     "metadata": {
      "needs_background": "light"
     },
     "output_type": "display_data"
    }
   ],
   "source": [
    "plt.figure\n",
    "plt.plot(time, F_t2star)\n",
    "plt.xlabel(\"F state\")\n",
    "plt.ylabel(\"$S_F$\")"
   ]
  },
  {
   "cell_type": "code",
   "execution_count": null,
   "id": "bfa295ab-5002-4e72-a0f2-9d18f414f419",
   "metadata": {},
   "outputs": [
    {
     "data": {
      "text/plain": [
       "Text(0.5, 1.0, 'Off-resonance Profile tip angle:10')"
      ]
     },
     "execution_count": 14,
     "metadata": {},
     "output_type": "execute_result"
    },
    {
     "data": {
      "image/png": "[encoded data removed]",
      "text/plain": [
       "<Figure size 432x288 with 1 Axes>"
      ]
     },
     "metadata": {
      "needs_background": "light"
     },
     "output_type": "display_data"
    }
   ],
   "source": [
    "plt.figure(4)\n",
    "plt.plot(off_resonance_f, np.angle(M_complex_steady))\n",
    "plt.xlabel(\"off resonance frequency (Hz)\")\n",
    "plt.ylabel(\"$|M_{xy}|$\")\n",
    "plt.title(\"Off-resonance Profile tip angle:\" + str(a))"
   ]
  },
  {
   "cell_type": "code",
   "execution_count": 19,
   "id": "86dbb29a-0dcb-4a2e-a424-df42a0d3bb54",
   "metadata": {},
   "outputs": [
    {
     "data": {
      "text/plain": [
       "45"
      ]
     },
     "execution_count": 19,
     "metadata": {},
     "output_type": "execute_result"
    }
   ],
   "source": [
    "405-360"
   ]
  },
  {
   "cell_type": "code",
   "execution_count": 48,
   "id": "94d2236e-90db-4d51-9da2-05fad8683d04",
   "metadata": {},
   "outputs": [],
   "source": [
    "period = 4\n",
    "offres = 10\n",
    "\n",
    "B = np.asarray(np.zeros((period,1)), dtype = int)\n",
    "C = np.asarray([], dtype = int)\n",
    "for j in range (0, offres):\n",
    "    A = np.asarray([], dtype = int)\n",
    "    for i in range (0,period):\n",
    "        A = np.append(A, i) #each TR\n",
    "    A = np.reshape(A, (period,1))# a period*1 vector store transverse magnitude at different TR\n",
    "    B = np.append(B,A, axis = 1)\n",
    "B = np.delete(B,0,1)"
   ]
  },
  {
   "cell_type": "markdown",
   "id": "bf7b954e-4b5f-4789-b2c4-369c30e31e19",
   "metadata": {},
   "source": [
    "B = np.transpose(A)"
   ]
  },
  {
   "cell_type": "code",
   "execution_count": 43,
   "id": "c04742b5-0bf0-47e8-99d8-2309e8a74d27",
   "metadata": {},
   "outputs": [
    {
     "data": {
      "text/plain": [
       "array([[0.],\n",
       "       [0.],\n",
       "       [0.],\n",
       "       [0.]])"
      ]
     },
     "execution_count": 43,
     "metadata": {},
     "output_type": "execute_result"
    }
   ],
   "source": [
    "np.zeros((period,1))"
   ]
  },
  {
   "cell_type": "code",
   "execution_count": 33,
   "id": "d6137394-ccb4-4065-ae9b-70b845aa0e17",
   "metadata": {},
   "outputs": [],
   "source": [
    "B = A"
   ]
  },
  {
   "cell_type": "code",
   "execution_count": 45,
   "id": "7b6c0a81-9889-4128-81ec-97fb63bf1f39",
   "metadata": {},
   "outputs": [],
   "source": []
  },
  {
   "cell_type": "code",
   "execution_count": 49,
   "id": "475012c5-6978-442c-82ab-973aa75071a5",
   "metadata": {},
   "outputs": [
    {
     "data": {
      "text/plain": [
       "array([[0, 0, 0, 0, 0, 0, 0, 0, 0, 0],\n",
       "       [1, 1, 1, 1, 1, 1, 1, 1, 1, 1],\n",
       "       [2, 2, 2, 2, 2, 2, 2, 2, 2, 2],\n",
       "       [3, 3, 3, 3, 3, 3, 3, 3, 3, 3]])"
      ]
     },
     "execution_count": 49,
     "metadata": {},
     "output_type": "execute_result"
    }
   ],
   "source": [
    "B"
   ]
  },
  {
   "cell_type": "code",
   "execution_count": null,
   "id": "8e58175b-d037-4998-970e-3f67c0d419d0",
   "metadata": {},
   "outputs": [],
   "source": []
  }
 ],
 "metadata": {
  "kernelspec": {
   "display_name": "Python 3 (ipykernel)",
   "language": "python",
   "name": "python3"
  },
  "language_info": {
   "codemirror_mode": {
    "name": "ipython",
    "version": 3
   },
   "file_extension": ".py",
   "mimetype": "text/x-python",
   "name": "python",
   "nbconvert_exporter": "python",
   "pygments_lexer": "ipython3",
   "version": "3.10.2"
  },
  "vscode": {
   "interpreter": {
    "hash": "a546b40ba1898f01afe97c1c4de9a203aeab0d16f1ac071b40cc8345119c215d"
   }
  }
 },
 "nbformat": 4,
 "nbformat_minor": 5
}
