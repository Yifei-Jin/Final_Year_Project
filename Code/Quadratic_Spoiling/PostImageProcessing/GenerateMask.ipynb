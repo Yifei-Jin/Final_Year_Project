{
 "cells": [
  {
   "cell_type": "code",
   "execution_count": 1,
   "id": "b06d9373-454f-43fd-b646-6dc73eb3103a",
   "metadata": {},
   "outputs": [],
   "source": [
    "import numpy as np\n",
    "import matplotlib.pyplot as plt\n",
    "import pydicom\n",
    "from scipy.optimize import curve_fit\n",
    "\n",
    "\n",
    "import math\n",
    "from skimage import color\n",
    "from skimage.io import imread\n",
    "from skimage.transform import hough_circle, hough_circle_peaks\n",
    "from skimage.feature import canny\n",
    "import skimage.draw as sdraw\n",
    "from skimage.util import img_as_ubyte\n",
    "\n",
    "from skimage.morphology import binary_closing, disk, erosion, dilation\n",
    "import scipy.ndimage as nd\n",
    "import skimage.draw as sdraw\n",
    "\n",
    "from matplotlib import colors\n",
    "from skimage.measure import label, regionprops"
   ]
  },
  {
   "cell_type": "code",
   "execution_count": 2,
   "id": "652aa888-06b5-445a-ac75-c7d4eda54b6a",
   "metadata": {},
   "outputs": [
    {
     "name": "stdout",
     "output_type": "stream",
     "text": [
      "DICOM/GOLDSTANDARD_6msTR_20FA/NPERIODIC_140423_1.MR.0003.0001.2023.04.14.15.23.33.996403.63216740.IMA\n",
      "DICOM/GOLDSTANDARD_6msTR_20FA/NPERIODIC_140423_1.MR.0003.0002.2023.04.14.15.23.33.996403.63216758.IMA\n",
      "DICOM/GOLDSTANDARD_6msTR_20FA/NPERIODIC_140423_1.MR.0003.0003.2023.04.14.15.23.33.996403.63216776.IMA\n",
      "DICOM/GOLDSTANDARD_6msTR_20FA/NPERIODIC_140423_1.MR.0003.0004.2023.04.14.15.23.33.996403.63216794.IMA\n",
      "DICOM/GOLDSTANDARD_6msTR_20FA/NPERIODIC_140423_1.MR.0003.0005.2023.04.14.15.23.33.996403.63216812.IMA\n",
      "DICOM/GOLDSTANDARD_6msTR_20FA/NPERIODIC_140423_1.MR.0003.0006.2023.04.14.15.23.33.996403.63216830.IMA\n",
      "DICOM/GOLDSTANDARD_6msTR_20FA/NPERIODIC_140423_1.MR.0003.0007.2023.04.14.15.23.33.996403.63216848.IMA\n",
      "DICOM/GOLDSTANDARD_6msTR_20FA/NPERIODIC_140423_1.MR.0003.0008.2023.04.14.15.23.33.996403.63216866.IMA\n",
      "DICOM/GOLDSTANDARD_6msTR_20FA/NPERIODIC_140423_1.MR.0003.0009.2023.04.14.15.23.33.996403.63216884.IMA\n",
      "DICOM/GOLDSTANDARD_6msTR_20FA/NPERIODIC_140423_1.MR.0003.0010.2023.04.14.15.23.33.996403.63216902.IMA\n",
      "DICOM/GOLDSTANDARD_6msTR_20FA/NPERIODIC_140423_1.MR.0003.0011.2023.04.14.15.23.33.996403.63216920.IMA\n",
      "DICOM/GOLDSTANDARD_6msTR_20FA/NPERIODIC_140423_1.MR.0003.0012.2023.04.14.15.23.33.996403.63216938.IMA\n"
     ]
    }
   ],
   "source": [
    "LastCODE = 63216740\n",
    "specialCODE = '0003'\n",
    "fa = 20\n",
    "tr = 6\n",
    "TR = tr*1e-3\n",
    "TE = TR/2 \n",
    "echonum = 12\n",
    "DICOMFILENAME = []\n",
    "for i in range (0,echonum):\n",
    "    LAST = str(LastCODE+18*i)\n",
    "    if(i<9):\n",
    "         DICOM1 = 'DICOM/GOLDSTANDARD_'+str(tr)+'msTR_'+str(fa)+'FA/NPERIODIC_140423_1.MR.'+specialCODE+'.000'+str(int(i+1))+'.2023.04.14.15.23.33.996403.'+LAST+'.IMA'\n",
    "    else:\n",
    "        DICOM1 = 'DICOM/GOLDSTANDARD_'+str(tr)+'msTR_'+str(fa)+'FA/NPERIODIC_140423_1.MR.'+specialCODE+'.00'+str(int(i+1))+'.2023.04.14.15.23.33.996403.'+LAST+'.IMA'\n",
    "    DICOMFILENAME.append(DICOM1)\n",
    "    print(DICOM1)"
   ]
  },
  {
   "cell_type": "code",
   "execution_count": 13,
   "id": "a667775b-bde2-4055-a8de-b726e8672819",
   "metadata": {},
   "outputs": [],
   "source": [
    "#LOAD DICOM DATA\n",
    "GOLDSTD_DATA = np.asarray(np.zeros((1,256,256)), dtype = float)\n",
    "TIME = np.asarray([], dtype = float)\n",
    "for i in range (0,echonum):\n",
    "    filepath = DICOMFILENAME[i]\n",
    "    img = pydicom.read_file(filepath)\n",
    "    GOLDSTD_DATA = np.append(GOLDSTD_DATA, img.pixel_array.reshape((1,256,256)), axis = 0)\n",
    "    #Corresponding \"time\" on exponential fit for each array layer\n",
    "    TIME = np.append(TIME, TE + TR*i)\n",
    "GOLDSTD_DATA =  np.delete(GOLDSTD_DATA,0,0)\n",
    "#pixel array for different TR stored in GOLDSTD_DATA\n",
    "\n"
   ]
  },
  {
   "cell_type": "markdown",
   "id": "f9f5bcd9-753e-4a20-919b-7d1fec060def",
   "metadata": {},
   "source": [
    "# Method 1"
   ]
  },
  {
   "cell_type": "code",
   "execution_count": 93,
   "id": "068b658a-e191-47d7-be06-d30d720285f8",
   "metadata": {},
   "outputs": [],
   "source": [
    "fa = 40\n",
    "tr = 6\n",
    "TR = tr*1e-3\n",
    "TE = TR/2 \n",
    "echonum = 12\n",
    "DICOMFILENAME = []\n",
    "for i in range (0,echonum):\n",
    "    DICOM1 = 'recon/multiecho_FLASH/tr'+str(tr)+'_fa'+str(fa)+'_echo'+str(i+1)+'.dcm'\n",
    "\n",
    "    DICOMFILENAME.append(DICOM1)\n",
    "\n",
    "#LOAD DICOM DATA\n",
    "GOLDSTD_DATA = np.asarray(np.zeros((1,256,256)), dtype = float)\n",
    "TIME = np.asarray([], dtype = float)\n",
    "for i in range (0,echonum):\n",
    "    filepath = DICOMFILENAME[i]\n",
    "    img = pydicom.read_file(filepath)\n",
    "    GOLDSTD_DATA = np.append(GOLDSTD_DATA, img.pixel_array.reshape((1,256,256)), axis = 0)\n",
    "    #Corresponding \"time\" on exponential fit for each array layer\n",
    "    TIME = np.append(TIME, TE + TR*i)\n",
    "GOLDSTD_DATA =  np.delete(GOLDSTD_DATA,0,0)\n",
    "#pixel array for different TR stored in GOLDSTD_DATA\n",
    "\n"
   ]
  },
  {
   "cell_type": "code",
   "execution_count": 94,
   "id": "822473c4-90e4-4058-bf6b-aeedb20835ce",
   "metadata": {},
   "outputs": [],
   "source": [
    "import matplotlib.image\n",
    "array = GOLDSTD_DATA[1,:,:]\n",
    "matplotlib.image.imsave('MASKGenerationBase.jpg', array)"
   ]
  },
  {
   "cell_type": "code",
   "execution_count": 107,
   "id": "ede83fd7-55c6-4182-a5af-8973bdb76cc5",
   "metadata": {},
   "outputs": [],
   "source": [
    "import cv2\n",
    "import numpy as np\n",
    "\n",
    "MASK_3_img = np.zeros((256,256,3), np.uint8)\n",
    "\n",
    "# Read image.\n",
    "img = cv2.imread('MASKGenerationBase.jpg', cv2.IMREAD_COLOR)\n",
    "  \n",
    "# Convert to grayscale.\n",
    "gray = cv2.cvtColor(img, cv2.COLOR_BGR2GRAY)\n",
    "  \n",
    "# Blur using 3 * 3 kernel.\n",
    "gray_blurred = cv2.blur(gray, (1, 1))\n",
    "  \n",
    "# Apply Hough transform on the blurred image.\n",
    "detected_circles = cv2.HoughCircles(gray_blurred, \n",
    "                   cv2.HOUGH_GRADIENT, 1, 20, param1 = 50,\n",
    "               param2 = 30, minRadius = 1, maxRadius = 40)\n",
    "  \n",
    "# Draw circles that are detected.\n",
    "if detected_circles is not None:\n",
    "  \n",
    "    # Convert the circle parameters a, b and r to integers.\n",
    "    detected_circles = np.uint16(np.around(detected_circles))\n",
    "  \n",
    "    for pt in detected_circles[0, :]:\n",
    "        a, b, r = pt[0], pt[1], pt[2]\n",
    "  \n",
    "        # Draw the circumference of the circle.\n",
    "        cv2.circle(img, (a, b), r, (0, 255, 0), 2)\n",
    "  \n",
    "        # Draw a small circle (of radius 1) to show the center.\n",
    "        cv2.circle(img, (a, b), 1, (0, 0, 255), 3)\n",
    "        cv2.imshow(\"Detected Circle\", img)\n",
    "        cv2.waitKey(0)\n"
   ]
  },
  {
   "cell_type": "code",
   "execution_count": 113,
   "id": "c4dcfe4c-562e-4c11-ac53-5e629009714b",
   "metadata": {},
   "outputs": [
    {
     "data": {
      "text/plain": [
       "(1, 11, 3)"
      ]
     },
     "execution_count": 113,
     "metadata": {},
     "output_type": "execute_result"
    }
   ],
   "source": [
    "np.shape(detected_circles)"
   ]
  },
  {
   "cell_type": "code",
   "execution_count": 117,
   "id": "e84647de-dbcd-4c80-8c75-89dad0b7530e",
   "metadata": {},
   "outputs": [
    {
     "data": {
      "image/png": "[encoded data removed]",
      "text/plain": [
       "<Figure size 432x288 with 1 Axes>"
      ]
     },
     "metadata": {
      "needs_background": "light"
     },
     "output_type": "display_data"
    }
   ],
   "source": [
    "MASK_3 = np.asarray(np.zeros((256,256)), dtype = float)\n",
    "detected_circles\n",
    "for i in range(0,np.shape(detected_circles)[1]):\n",
    "    circy, circx = sdraw.disk((detected_circles[0,i,1], detected_circles[0,i,0]), 6)\n",
    "    #color = colors.pop(0)\n",
    "    MASK_3[circy, circx] = 1\n",
    "    #colors.append(color)\n",
    "\n",
    "circy, circx = sdraw.disk((144,78), 6)\n",
    "    #color = colors.pop(0)\n",
    "MASK_3[circy, circx] = 1\n",
    "circy, circx = sdraw.disk((114,80), 6)\n",
    "MASK_3[circy, circx] = 1\n",
    "circy, circx = sdraw.disk((108,108), 6)\n",
    "MASK_3[circy, circx] = 1\n",
    "\n",
    "MASK_3 = label(MASK_3)\n",
    "plt.imshow((np.ones((256,256))-MASK_3)*array)\n",
    "plt.imshow(MASK_3)\n",
    "np.save(\"Figure/MASKLABEL_4.npy\", MASK_3)"
   ]
  },
  {
   "cell_type": "code",
   "execution_count": 105,
   "id": "9dab8f14-51a1-44d2-a77b-340fc2988d90",
   "metadata": {},
   "outputs": [
    {
     "data": {
      "text/plain": [
       "array([[[ 80, 114,   7],\n",
       "        [ 78, 144,  10],\n",
       "        [ 98, 168,   7],\n",
       "        [146, 150,   7],\n",
       "        [108, 108,  10],\n",
       "        [126,  80,   8],\n",
       "        [ 96,  88,   8],\n",
       "        [174, 146,   8],\n",
       "        [156,  90,   8],\n",
       "        [106, 148,   7],\n",
       "        [180,  76,   7],\n",
       "        [148, 110,   8]]], dtype=uint16)"
      ]
     },
     "execution_count": 105,
     "metadata": {},
     "output_type": "execute_result"
    }
   ],
   "source": [
    "detected_circles"
   ]
  },
  {
   "cell_type": "markdown",
   "id": "9049f19d-061b-4728-9f70-deacb51283e2",
   "metadata": {},
   "source": [
    "# Method 2"
   ]
  },
  {
   "cell_type": "code",
   "execution_count": 24,
   "id": "3c2edefd-8367-4d6d-9d2c-54b54d804f19",
   "metadata": {},
   "outputs": [
    {
     "data": {
      "text/plain": [
       "<matplotlib.colorbar.Colorbar at 0x24078d88880>"
      ]
     },
     "execution_count": 24,
     "metadata": {},
     "output_type": "execute_result"
    },
    {
     "data": {
      "image/png": "[encoded data removed]",
      "text/plain": [
       "<Figure size 1728x576 with 5 Axes>"
      ]
     },
     "metadata": {
      "needs_background": "light"
     },
     "output_type": "display_data"
    }
   ],
   "source": [
    "def multi_erosion(image, kernel, iterations):\n",
    "    for i in range(iterations):\n",
    "        image = erosion(image, kernel)\n",
    "    return image\n",
    "\n",
    "def multi_dilation(image, kernel, iterations):\n",
    "    for i in range(iterations):\n",
    "        image = dilation(image, kernel)\n",
    "    return image\n",
    "\n",
    "cross = np.array([[0,1,0],\n",
    "                  [1,1,1],\n",
    "                  [0,1,0]])\n",
    "\n",
    "#MASK generate base on the first image\n",
    "image = GOLDSTD_DATA[1,:,:]\n",
    "#Final Mask\n",
    "MASK = np.zeros((256,256))\n",
    "fig=plt.figure(figsize=(24, 8))\n",
    "\n",
    "\n",
    "#STEP 1 Remove quare at middle and other things in the background \n",
    "I_pre = np.asarray(np.zeros((256,256)), dtype = float)\n",
    "for x in range (0,256):\n",
    "    for y in range (0,256):\n",
    "        if ((image[x,y]*image[x,y]*image[x,y])<200000):\n",
    "            I_pre[x,y] = 1\n",
    "        if ((pow(x-125,2)+pow(y-125,2))>4410):\n",
    "            I_pre[x,y] = 0\n",
    "        if (x>117 and x<136 and y>90 and y<155):\n",
    "            I_pre[x,y] = 0\n",
    "fig.add_subplot(1,4,1)\n",
    "plt.imshow(I_pre, cmap='gray')\n",
    "#MASK generate base on the first image\n",
    "# image = GOLDSTD_DATA[0,:,:]\n",
    "# #Final Mask\n",
    "# MASK = np.zeros((256,256))\n",
    "# fig=plt.figure(figsize=(24, 8))\n",
    "\n",
    "\n",
    "# #STEP 1 Remove quare at middle and other things in the background \n",
    "# I_pre = np.asarray(np.zeros((256,256)), dtype = float)\n",
    "# for x in range (0,256):\n",
    "#     for y in range (0,256):\n",
    "#         if (image[x,y]<300000000):\n",
    "#             I_pre[x,y] = 1\n",
    "#         if ((pow(x-125,2)+pow(y-125,2))>4410):\n",
    "#             I_pre[x,y] = 0\n",
    "#         if (x>117 and x<140 and y>90 and y<156):\n",
    "#             I_pre[x,y] = 0\n",
    "# fig.add_subplot(1,3,1)\n",
    "# plt.imshow(I_pre, cmap='gray')\n",
    "\n",
    "\n",
    "\n",
    "#STEP 2 Closing the circles \n",
    "strel = disk(1)\n",
    "I_closed = binary_closing(I_pre, strel)\n",
    "I_closed = multi_dilation(I_closed, cross, 4)\n",
    "I_closed = multi_erosion(I_closed, cross, 2)\n",
    "\n",
    "# Closed image\n",
    "fig.add_subplot(1,4,2)\n",
    "plt.imshow(I_closed, cmap='gray')\n",
    "\n",
    "#STEP 3 Draw circle on the final MASK\n",
    "# skimage version 0.14.0\n",
    "IMAGE = I_closed\n",
    "\n",
    "BEST_COUNT = 14              # how many circles to draw\n",
    "MIN_RADIUS = 7              # min radius should be bigger than noise\n",
    "MAX_RADIUS = 20             # max radius of circles to be detected (in pixels)\n",
    "LARGER_THRESH = 1.2         # circle is considered significantly larger than another one if its radius is at least so much bigger\n",
    "OVERLAP_THRESH = 0.1        # circles are considered overlapping if this part of the smaller circle is overlapping\n",
    "\n",
    "def circle_overlap_percent(centers_distance, radius1, radius2):\n",
    "    '''\n",
    "    Calculating the percentage area overlap between circles\n",
    "    See Gist for comments:\n",
    "        https://gist.github.com/amakukha/5019bfd4694304d85c617df0ca123854\n",
    "    '''\n",
    "    R, r = max(radius1, radius2), min(radius1, radius2)\n",
    "    if centers_distance >= R + r:\n",
    "        return 0.0\n",
    "    elif R >= centers_distance + r:\n",
    "        return 1.0\n",
    "    R2, r2 = R**2, r**2\n",
    "    x1 = (centers_distance**2 - R2 + r2 )/(2*centers_distance)\n",
    "    x2 = abs(centers_distance - x1)\n",
    "    y = math.sqrt(R2 - x1**2)\n",
    "    a1 = R2 * math.atan2(y, x1) - x1*y\n",
    "    if x1 <= centers_distance:\n",
    "        a2 = r2 * math.atan2(y, x2) - x2*y\n",
    "    else:\n",
    "        a2 = math.pi * r2 - a2\n",
    "    overlap_area = a1 + a2\n",
    "    return overlap_area / (math.pi * r2)\n",
    "\n",
    "def circle_overlap(c1, c2):\n",
    "    d = math.sqrt((c1[0]-c2[0])**2 + (c1[1]-c2[1])**2)\n",
    "    return circle_overlap_percent(d, c1[2], c2[2])\n",
    "\n",
    "def inner_circle(cs, c, thresh):\n",
    "    '''Is circle `c` is \"inside\" one of the `cs` circles?'''\n",
    "    for dc in cs:\n",
    "        # if new circle is larger than existing -> it's not inside\n",
    "        if c[2] > dc[2]*LARGER_THRESH: continue\n",
    "        # if new circle is smaller than existing one...\n",
    "        if circle_overlap(dc, c)>thresh:\n",
    "            # ...and there is a significant overlap -> it's inner circle\n",
    "            return True\n",
    "    return False\n",
    "\n",
    "# Load picture and detect edges\n",
    "image = IMAGE\n",
    "edges = canny(image, sigma=3)\n",
    "\n",
    "# Detect circles of specific radii\n",
    "hough_radii = np.arange(MIN_RADIUS, MAX_RADIUS, 2)\n",
    "hough_res = hough_circle(edges, hough_radii)\n",
    "\n",
    "# Select the most prominent circles (in order from best to worst)\n",
    "accums, cx, cy, radii = hough_circle_peaks(hough_res, hough_radii)\n",
    "\n",
    "# Determine BEST_COUNT circles to be drawn\n",
    "drawn_circles = []\n",
    "for crcl in zip(cy, cx, radii):\n",
    "    # Do not draw circles if they are mostly inside better fitting ones\n",
    "    if not inner_circle(drawn_circles, crcl, OVERLAP_THRESH):\n",
    "        # A good circle found: exclude smaller circles it covers\n",
    "        i = 0\n",
    "        while i<len(drawn_circles):\n",
    "            if circle_overlap(crcl, drawn_circles[i]) > OVERLAP_THRESH:\n",
    "                t = drawn_circles.pop(i)\n",
    "            else:\n",
    "                i += 1\n",
    "        # Remember the new circle\n",
    "        drawn_circles.append(crcl)\n",
    "    # Stop after have found more circles than needed\n",
    "    if len(drawn_circles)>BEST_COUNT:\n",
    "        break\n",
    "\n",
    "drawn_circles = drawn_circles[:BEST_COUNT]\n",
    "\n",
    "# Actually draw circles\n",
    "colors  = [(250, 0, 0), (0, 250, 0), (0, 0, 250)]\n",
    "colors += [(200, 200, 0), (0, 200, 200), (200, 0, 200)]\n",
    "#image = color.gray2rgb(image)\n",
    "for center_y, center_x, radius in drawn_circles:\n",
    "    circy, circx = sdraw.disk((center_y, center_x), radius)\n",
    "    #color = colors.pop(0)\n",
    "    MASK[circy, circx] = 1\n",
    "    #colors.append(color)\n",
    "\n",
    "MASK = multi_erosion(MASK, cross, 5)\n",
    "LABELMASK = label(MASK)\n",
    "fig.add_subplot(1,4,3)\n",
    "plt.imshow(MASK, cmap='gray')\n",
    "fig.suptitle(str(tr)+\"TR \"+str(fa)+\"FA mask generation\", fontsize = 25)\n",
    "\n",
    "fig.add_subplot(1,4,4)\n",
    "plt.imshow(LABELMASK)\n",
    "fig.suptitle(str(tr)+\"TR \"+str(fa)+\"FA mask generation\", fontsize = 25)\n",
    "plt.colorbar()\n",
    "\n",
    "# plt.savefig(\"Figure/GOLDstandardT2Star/MASKgeneration_v2.jpg\")\n",
    "# np.save(\"Figure/GOLDstandardT2Star/MASKLABEL_2.npy\", LABELMASK)"
   ]
  },
  {
   "cell_type": "code",
   "execution_count": null,
   "id": "c33abd25-52f4-4857-9c42-ff6b7941a231",
   "metadata": {},
   "outputs": [],
   "source": []
  }
 ],
 "metadata": {
  "kernelspec": {
   "display_name": "Python 3 (ipykernel)",
   "language": "python",
   "name": "python3"
  },
  "language_info": {
   "codemirror_mode": {
    "name": "ipython",
    "version": 3
   },
   "file_extension": ".py",
   "mimetype": "text/x-python",
   "name": "python",
   "nbconvert_exporter": "python",
   "pygments_lexer": "ipython3",
   "version": "3.10.2"
  }
 },
 "nbformat": 4,
 "nbformat_minor": 5
}
