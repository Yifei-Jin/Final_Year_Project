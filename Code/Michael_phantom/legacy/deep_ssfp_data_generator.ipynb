{
 "cells": [
  {
   "cell_type": "code",
   "execution_count": null,
   "id": "d0bb3596-85eb-4628-857e-303bcd618e1e",
   "metadata": {},
   "outputs": [],
   "source": [
    "import sys\n",
    "sys.path.append('..')\n",
    "\n",
    "from phantom import *\n",
    "from plots import *\n",
    "from deep_ssfp import deep_ssfp, data_generator\n",
    "from generators import generate_block_phantom2d_ssfp"
   ]
  },
  {
   "cell_type": "code",
   "execution_count": null,
   "id": "ed2b8c73-b472-4545-8e66-f0b850b3e9a4",
   "metadata": {},
   "outputs": [],
   "source": [
    "dataset = generate_block_phantom2d_ssfp()"
   ]
  },
  {
   "cell_type": "code",
   "execution_count": null,
   "id": "ac2087a4-e52b-463e-a0d9-2602ce2dfdc0",
   "metadata": {},
   "outputs": [],
   "source": [
    "data = data_generator.DataGenerator(dataset['M'], width=128, height=128)"
   ]
  },
  {
   "cell_type": "code",
   "execution_count": null,
   "id": "f84c85bb-4bca-447c-bcd2-9a6f9989a9b6",
   "metadata": {},
   "outputs": [],
   "source": []
  }
 ],
 "metadata": {
  "kernelspec": {
   "display_name": "Python 3 (ipykernel)",
   "language": "python",
   "name": "python3"
  },
  "language_info": {
   "codemirror_mode": {
    "name": "ipython",
    "version": 3
   },
   "file_extension": ".py",
   "mimetype": "text/x-python",
   "name": "python",
   "nbconvert_exporter": "python",
   "pygments_lexer": "ipython3",
   "version": "3.8.8"
  }
 },
 "nbformat": 4,
 "nbformat_minor": 5
}
