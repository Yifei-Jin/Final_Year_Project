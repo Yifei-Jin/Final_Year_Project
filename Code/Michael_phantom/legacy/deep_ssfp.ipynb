{
 "cells": [
  {
   "cell_type": "code",
   "execution_count": null,
   "id": "f1d916d7-7fd4-439f-bf70-ef148921e28c",
   "metadata": {},
   "outputs": [],
   "source": [
    "import sys\n",
    "sys.path.append('..')\n",
    "\n",
    "from phantom import *\n",
    "from plots import *\n",
    "from deep_ssfp import deep_ssfp, data_generator"
   ]
  },
  {
   "cell_type": "code",
   "execution_count": null,
   "id": "27771857-da17-4dca-a34a-bee313bae1ce",
   "metadata": {},
   "outputs": [],
   "source": [
    "dataset = deep_ssfp.generate_dataset_and_save()"
   ]
  },
  {
   "cell_type": "code",
   "execution_count": null,
   "id": "5fefb0f3-2d9c-46e8-99f5-96e9c28ab048",
   "metadata": {},
   "outputs": [],
   "source": [
    "dataset = deep_ssfp.load_dataset()\n",
    "M = dataset.item()['M']"
   ]
  },
  {
   "cell_type": "code",
   "execution_count": null,
   "id": "734e3a98-2fdd-4332-973f-1e62ba0e9476",
   "metadata": {},
   "outputs": [],
   "source": [
    "show_dataset(M)"
   ]
  },
  {
   "cell_type": "code",
   "execution_count": null,
   "id": "dd5e6828-e69a-4038-a691-09ece4c6211c",
   "metadata": {},
   "outputs": [],
   "source": [
    "data = data_generator.DataGenerator(M, width=128, height=128)"
   ]
  },
  {
   "cell_type": "code",
   "execution_count": null,
   "id": "347eb6e1-eb67-451e-8b8f-26fad9e41e47",
   "metadata": {},
   "outputs": [],
   "source": [
    "plot_real_imag_data(data.x_test, 100)"
   ]
  },
  {
   "cell_type": "code",
   "execution_count": null,
   "id": "474e9fc6-0bac-4180-b244-a11e621ebe56",
   "metadata": {},
   "outputs": [],
   "source": [
    "plot_real_imag_data(data.y_test, 100)"
   ]
  },
  {
   "cell_type": "code",
   "execution_count": null,
   "id": "7609f608-de2b-4f29-80f7-b87d136ba98b",
   "metadata": {},
   "outputs": [],
   "source": [
    "plot_complex_data(data.data, 1048+100)"
   ]
  },
  {
   "cell_type": "code",
   "execution_count": null,
   "id": "a1a62a68-008c-4485-91a9-cb0ef9814a9f",
   "metadata": {},
   "outputs": [],
   "source": [
    "model, hisotry = deep_ssfp.train(M)"
   ]
  },
  {
   "cell_type": "code",
   "execution_count": null,
   "id": "d344594c-0988-4615-a2f6-ec9b078dbc83",
   "metadata": {},
   "outputs": [],
   "source": []
  }
 ],
 "metadata": {
  "kernelspec": {
   "display_name": "Python 3",
   "language": "python",
   "name": "python3"
  },
  "language_info": {
   "codemirror_mode": {
    "name": "ipython",
    "version": 3
   },
   "file_extension": ".py",
   "mimetype": "text/x-python",
   "name": "python",
   "nbconvert_exporter": "python",
   "pygments_lexer": "ipython3",
   "version": "3.8.8"
  }
 },
 "nbformat": 4,
 "nbformat_minor": 5
}
