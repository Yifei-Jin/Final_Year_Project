{
 "cells": [
  {
   "cell_type": "markdown",
   "id": "a2bf463a-6098-468e-9085-60e4c248bb47",
   "metadata": {},
   "source": [
    "# N-Periodic ka-SPGR Monte Carlo Simulation \n",
    "## (Quadratic RF Spoiling bSSFP) #"
   ]
  },
  {
   "cell_type": "code",
   "execution_count": 2,
   "id": "1fe24af9-1161-40f7-955a-2239af3b8263",
   "metadata": {},
   "outputs": [],
   "source": [
    "import numpy as np\n",
    "import math\n",
    "import random\n",
    "import matplotlib.pyplot as plt\n",
    "from scipy.fft import fft\n",
    "from scipy.optimize import curve_fit\n",
    "\n",
    "import pandas as pd\n",
    "import openpyxl\n",
    "import sys\n",
    "sys.path.insert(1, '../../../mri_sim')\n",
    "sys.path.insert(1, '../../..')\n",
    "\n",
    "sys.path.insert(0, '../../../mri_sim/SSFP')\n",
    "from simulator import *"
   ]
  },
  {
   "cell_type": "markdown",
   "id": "5ab788b7-8531-4441-8c0d-245387f126d5",
   "metadata": {},
   "source": [
    "# Functions\n",
    "### Quadratic Phase"
   ]
  },
  {
   "cell_type": "code",
   "execution_count": 2,
   "id": "5902cd5e-7bfe-49c7-b74f-d4b3febdc843",
   "metadata": {
    "tags": []
   },
   "outputs": [],
   "source": [
    "#Calculate the phase shift for current TR (quadratic spoiling)\n",
    "def QuadraticPhase(N, n):\n",
    "    phi_quad = 360/N\n",
    "    phase = phi_quad*n*n/2\n",
    "    phase = phase%360\n",
    " \n",
    "    #in degree\n",
    "    return phase\n"
   ]
  },
  {
   "cell_type": "markdown",
   "id": "57eff224-f1e7-4d53-ad63-d9dd638ac4e7",
   "metadata": {},
   "source": [
    "<p>Parameters T1, T2, TR, TE, tip angle, period, initial magnetisation. <p/>\n"
   ]
  },
  {
   "cell_type": "markdown",
   "id": "ad16fa16-6a48-4c41-a45f-81fc7ea7b0ee",
   "metadata": {},
   "source": [
    "### Quadratic RF spoiling bSSFP - data simulation function\n",
    "### with Noise and Field inhomogeneous"
   ]
  },
  {
   "cell_type": "code",
   "execution_count": 3,
   "id": "ff0c67ae-25cf-4b46-925c-11a63e08cf06",
   "metadata": {
    "tags": []
   },
   "outputs": [],
   "source": [
    "#Simulate Data with different field inhomogeneous effect (different T2*) and random noise \n",
    "def quadratic_RFspoiling_bSSFP (T1, T2, off_res_max, TR, TE, tip_angle, Period, M0, TRnum, M_transverse, off_resonance_f, T2p, testnum, AddNoise, Noise):\n",
    "    \n",
    "    SimulatedData = np.asarray(np.zeros((1,testnum,off_resonance_f.shape[0])), dtype = float) #Array with (T2*num, noise num, off-res f num)\n",
    "    T2Star_GT = np.asarray([], dtype = float) #Store the Ground Truth T2*\n",
    "    #simulate basic off-resonance profile\n",
    "    #M_transverse, off_resonance_f = basic_quadratic_RFspoiling_bSSFP(T1, T2, off_res_max, TR, TE, tip_angle, Period, M0, 1, TRnum)\n",
    "    \n",
    "    #Add field inhomogeneous \n",
    "    for T2_inhom in T2p:\n",
    "        SimulatedData_slice = np.asarray(np.zeros((1,off_resonance_f.shape[0])), dtype = float)\n",
    "        #Store Ground truth T2*------------------------------------\n",
    "        T2Star_GT = np.append(T2Star_GT, 1/((1/T2)+(1/T2_inhom)))\n",
    "        \n",
    "        #Add inhomogeneous, get the off-resonance profile with inhomogeneous effect added\n",
    "        F_magnitude_inhomo, F_state = AddfieldInhomogeneous(M_transverse, TR, TE, T2_inhom, off_resonance_f)\n",
    "        \n",
    "        #Add Noise\n",
    "        for test in range (0, testnum ):\n",
    "            if (AddNoise == True):\n",
    "                F_magnitude_inhomo_noise = F_magnitude_inhomo + Noise[test,:]\n",
    "            else:\n",
    "                F_magnitude_inhomo_noise = F_magnitude_inhomo\n",
    "            SimulatedData_slice = np.append(SimulatedData_slice, F_magnitude_inhomo_noise.reshape(1,off_resonance_f.shape[0]), axis = 0)\n",
    "        SimulatedData_slice = np.delete(SimulatedData_slice,0,0)\n",
    "        SimulatedData = np.append(SimulatedData, SimulatedData_slice.reshape(1,testnum,off_resonance_f.shape[0]), axis = 0)\n",
    "    SimulatedData = np.delete(SimulatedData,0,0)\n",
    "        \n",
    "#         #______________________T2* Fit________TESTING______________________________\n",
    "#         F_state_magnitude, F_state = Fstate (M_transverse_noise)\n",
    "        \n",
    "#         F_state = np.round(F_state).astype(int) #round F-state all to integer \n",
    "#         F = np.asarray([], dtype = float)\n",
    "#         F_Magnitude = np.asarray([], dtype = float)\n",
    "#         for i in range (0,6):\n",
    "#             F_index = np.where(F_state == float(-1-2*i))\n",
    "\n",
    "#             F = np.append(F, i)\n",
    "#             F_Magnitude = np.append(F_Magnitude, np.abs(F_state_magnitude[F_index]))\n",
    "            \n",
    "#         #End\n",
    "\n",
    "#         ## time = TE+F*TR\n",
    "#         time = TE*np.ones(np.shape(F))+ F *TR\n",
    "        \n",
    "#         def func(t, A, R2Star):\n",
    "#             return A * np.exp(-R2Star * t)\n",
    "#         #fitted coefficient stored in popt:[A R2*] --> T2* = 1/R2*\n",
    "#         popt, pcov = curve_fit(func, time, F_Magnitude)\n",
    "        \n",
    "#         plt.figure(1)\n",
    "#         plt.plot(time, F_Magnitude)\n",
    "#         T2Star_measured = 1/popt[1]\n",
    "#         print(T2Star_GT)\n",
    "#         print(T2Star_measured)\n",
    "#         #______________________________TESTING______________________________\n",
    "        \n",
    "    #Reshape into 3D Array(T2*num, noise num, off-res f num)    \n",
    "    #SimulatedData = SimulatedData.reshape(np.shape(T2p)[0], testnum, np.shape(M_transverse_inhomo_noise)[-1])   \n",
    "        \n",
    "    return SimulatedData, T2Star_GT"
   ]
  },
  {
   "cell_type": "code",
   "execution_count": 4,
   "id": "eab83e63-7e7b-4634-a51f-cfd93004805a",
   "metadata": {
    "tags": []
   },
   "outputs": [],
   "source": [
    "#Off-resonance profile magnitude --> F-state magnitude \n",
    "def Fstate(M_transverse):\n",
    "    F_Magnitude = np.fft.fftshift(np.fft.fft(np.fft.ifftshift(M_transverse), axis = 0))/M_transverse.shape[0]\n",
    "    # F_Magnitude = np.fft.fftshift(M_transverse)\n",
    "    # F_Magnitude = np.fft.fft(F_Magnitude, axis = 0)/M_transverse.shape[-1]\n",
    "    # F_Magnitude = np.fft.ifftshift(F_Magnitude)\n",
    "    \n",
    "\n",
    "    F_state = np.fft.fftfreq(M_transverse.shape[0], d = 1.0)\n",
    "    F_state = np.fft.fftshift(F_state)*M_transverse.shape[0]\n",
    "    \n",
    "    return np.transpose(F_Magnitude), np.transpose(F_state)\n"
   ]
  },
  {
   "cell_type": "markdown",
   "id": "ad43a86d-a7a2-4243-b4b4-5068655275f0",
   "metadata": {},
   "source": [
    "<p>Add field inhomogeneous <p\\>"
   ]
  },
  {
   "cell_type": "code",
   "execution_count": 5,
   "id": "3fddbceb-eb8f-4eec-a9da-b4db67fe3d77",
   "metadata": {
    "tags": []
   },
   "outputs": [],
   "source": [
    "#Add field inhomogeneous to model T2* effect (for F_number F-states, F_number = 6 --> 0,1,2...5 F-states\n",
    "def AddfieldInhomogeneous(M_transverse, TR, TE, T2prime, off_resonance_f):\n",
    "   \n",
    "    #F-state\n",
    "    F_state_magnitude, F_state = Fstate(M_transverse)\n",
    "    F_state = np.round(F_state).astype(int) #round F-state all to integer \n",
    "    F_state_magnitude_inhomo = F_state_magnitude\n",
    "    \n",
    "    index = 0\n",
    "    for i in F_state:\n",
    "        #remove the empty state caused by taking 2 period off-res profile \n",
    "        if ((i%2) == 0):\n",
    "            F = np.abs(-i//2) #the right F-state (all cast to positive)\n",
    "            time = TE+ F *TR\n",
    "            if (T2prime == 0):\n",
    "                F_state_magnitude_inhomo[0,index] = F_state_magnitude[0,index]\n",
    "            else:\n",
    "                F_state_magnitude_inhomo[0,index] = F_state_magnitude[0,index] *np.exp(-time/T2prime)\n",
    "        index = index + 1 \n",
    "    #End\n",
    "    \n",
    "    return F_state_magnitude_inhomo, F_state\n"
   ]
  },
  {
   "cell_type": "markdown",
   "id": "3d9ae772-26a5-4336-b923-cff7fa9a6e58",
   "metadata": {},
   "source": [
    "### T2* value fit using simulated data"
   ]
  },
  {
   "cell_type": "code",
   "execution_count": 6,
   "id": "7ba8b1bf-de27-49ca-90b4-dfd6d70f225e",
   "metadata": {
    "tags": []
   },
   "outputs": [],
   "source": [
    "#Performing T2* Fit using the previous simulated data (F-state)\n",
    "def T2StarFit(Data, T2Star_GT, Period, TR):\n",
    "    #testnumber*(T2'number) matrix storing T2* ground truth and measured --> used to calculate error later \n",
    "    #each row store measured T2* value for a ground truth T2*\n",
    "    TE = TR/2\n",
    "    \n",
    "    testnumber = np.shape(Data)[1]\n",
    "    T2s_m_all = np.asarray([], dtype = float)\n",
    "    #testnumber*2 matrix storing mean error and sd\n",
    "    Mean = np.asarray([], dtype = float)\n",
    "    Errorstd = np.asarray([], dtype = float)\n",
    "    Bias = np.asarray([], dtype = float)\n",
    "\n",
    "    slicenum = 0 #slice from the dataset, each slice contain several simulated data for one T2*\n",
    "    \n",
    "    # plt.figure()\n",
    "    # plt.xlabel(\"T2* Ground Truth (s)\")\n",
    "    # plt.ylabel(\"T2* Measured (s)\")\n",
    "    # x1 = np.array([-2,5])\n",
    "    # y1 = np.array([-2,5])\n",
    "    # plt.plot(x1,y1,c = '#4CAF50')\n",
    "    # plt.xlim(10e-3, 60e-3)\n",
    "    # plt.ylim(10e-3, 60e-3)\n",
    "    # plt.grid()\n",
    "    \n",
    "    for GroundTruth in T2Star_GT:\n",
    "        T2s_m = np.asarray([], dtype = float)\n",
    "        for test in range (0,testnumber):\n",
    "            #select each line from dataset \n",
    "            F_state_magnitude = Data[slicenum, test, :]\n",
    "            F_state = np.fft.fftshift(np.fft.fftfreq(F_state_magnitude.shape[-1], d = 1.0))*F_state_magnitude.shape[-1]\n",
    "\n",
    "            #______________________T2* Fit______________________________________\n",
    "            \n",
    "\n",
    "            #fit using 6 or less F-states\n",
    "            F_state = np.round(F_state).astype(int) #round F-state all to integer \n",
    "            F = np.asarray([], dtype = float)\n",
    "            F_Magnitude = np.asarray([], dtype = float)\n",
    "            for i in range (0,Period):\n",
    "                F_index = np.where(F_state == float(2+2*i))\n",
    "\n",
    "                F = np.append(F, i)\n",
    "                F_Magnitude = np.append(F_Magnitude, np.abs(F_state_magnitude[F_index]))\n",
    "            #End\n",
    "\n",
    "            ## time = TE+F*TR\n",
    "            time = TE*np.ones(np.shape(F))+ F *TR\n",
    "\n",
    "            def func(t, A, R2Star):\n",
    "                return A * np.exp(-R2Star * t)\n",
    "            #fitted coefficient stored in popt:[A R2*] --> T2* = 1/R2*\n",
    "            popt, pcov = curve_fit(func, time, F_Magnitude)\n",
    "\n",
    "            # plt.figure(1)\n",
    "            # plt.plot(time, F_Magnitude, marker = 'o')\n",
    "            T2Star_measured = 1/popt[1]\n",
    "            T2s_m = np.append(T2s_m, T2Star_measured)\n",
    "        \n",
    "            #____________________________________________________________\n",
    "        #For End\n",
    "        #plt.scatter([GroundTruth]*testnumber, T2s_m)\n",
    "       \n",
    "        \n",
    "        #calculate error\n",
    "        #T2s_m_all = np.append(T2s_m_all, T2s_m)\n",
    "        #Error_test = np.square(T2s_m - GroundTruth)\n",
    "        #Error_test = T2s_m - GroundTruth\n",
    "        T2s_m_mean = np.mean(T2s_m)\n",
    "        Mean = np.append(Mean, T2s_m_mean)\n",
    "        Errorstd = np.append(Errorstd, np.std(T2s_m))\n",
    "        Bias = np.append(Bias, (T2s_m_mean-GroundTruth)/GroundTruth)\n",
    "        slicenum = slicenum + 1\n",
    "        \n",
    "    #For End\n",
    "\n",
    "    return Mean, Errorstd, Bias\n",
    "    #T2s_m_all = T2s_m_all.reshape(T2Star_GT.shape[-1], testnumber)\n",
    "\n",
    "#plt.savefig(\"./Figure/noise/\"+str(Period)+\"Period_\"+str(TR)+\"_TR_T2StarFit.jpg\")"
   ]
  },
  {
   "cell_type": "markdown",
   "id": "2a620a90-f935-4f09-9cd0-0d5e0d06b249",
   "metadata": {},
   "source": [
    "# Simulation Parameters"
   ]
  },
  {
   "cell_type": "code",
   "execution_count": 7,
   "id": "1d00417b-bbd2-415a-bc22-61ddd9f77634",
   "metadata": {},
   "outputs": [],
   "source": [
    "#Map resoluation\n",
    "TR_n = 20\n",
    "\n",
    "#number of simulation run\n",
    "testnumber = 1000\n",
    "AddNoise = True\n",
    "\n",
    "\n",
    "#------------------------------------------------------------------------\n",
    "# the parameters used in this simulation \n",
    "#time unit --- second\n",
    "proton_density = 1.0\n",
    "T1 = 900e-3\n",
    "T2 = 44e-3\n",
    "off_res_samplesize = 1000\n",
    "\n",
    "TR = np.asarray([], dtype = float)\n",
    "TR_min = 2e-3\n",
    "TR_max = 10e-3\n",
    "TR_increment = (TR_max-TR_min)/TR_n\n",
    "for i in range (0, TR_n):\n",
    "    TR = np.append(TR, TR_min+TR_increment*i)\n",
    "    \n",
    "TE = TR/2\n",
    "#number of TR\n",
    "Nr = 500\n",
    "# tip angle alpha 10\n",
    "tip_angle = 10\n",
    "alpha = [np.deg2rad(tip_angle)] * Nr\n",
    "\n",
    "#initial magnetisation \n",
    "M0 = 1\n",
    "#off resonance profile range\n",
    "f = 4\n",
    "off_res = np.linspace(-np.pi*f, np.pi*f, off_res_samplesize+1)\n",
    "off_res = off_res[0:-1]\n",
    "dphi = [0]* Nr\n",
    "\n",
    "#T2* range 13 ms to 53 ms\n",
    "T2s_min = 13\n",
    "T2s_max = 53\n",
    "T2p = np.asarray([], dtype = float)\n",
    "\n",
    "for i in range (T2s_min, T2s_max):\n",
    "    T2p = np.append(T2p, 1/((1000/i)-1/T2))\n",
    "        \n"
   ]
  },
  {
   "cell_type": "code",
   "execution_count": 8,
   "id": "180a8552-5ed8-4b55-bd11-bb2140c278d6",
   "metadata": {},
   "outputs": [],
   "source": [
    "#phase cycling\n",
    "Period = 12\n",
    "phi = []\n",
    "for i in range (0,Nr):\n",
    "    p = np.deg2rad(QuadraticPhase(Period,i))\n",
    "    phi.append(p)\n",
    "    "
   ]
  },
  {
   "cell_type": "markdown",
   "id": "d28491bb-bf67-4d25-9633-ec1b9e4703d2",
   "metadata": {},
   "source": [
    "# Simulate Data\n",
    "<p>Bloch simulation<p/>"
   ]
  },
  {
   "cell_type": "code",
   "execution_count": 70,
   "id": "b6e28d32-8534-461a-9da0-a6b1195e5183",
   "metadata": {},
   "outputs": [
    {
     "name": "stdout",
     "output_type": "stream",
     "text": [
      "0.002\n",
      "0.0024000000000000002\n",
      "0.0028\n",
      "0.0032\n",
      "0.0036\n",
      "0.004\n",
      "0.0044\n",
      "0.0048000000000000004\n",
      "0.0052\n",
      "0.005600000000000001\n",
      "0.006\n",
      "0.0064\n",
      "0.0068000000000000005\n",
      "0.007200000000000001\n",
      "0.0076\n",
      "0.008\n",
      "0.008400000000000001\n",
      "0.0088\n",
      "0.0092\n",
      "0.009600000000000001\n"
     ]
    },
    {
     "data": {
      "image/png": "[encoded data removed]",
      "text/plain": [
       "<Figure size 432x288 with 1 Axes>"
      ]
     },
     "metadata": {
      "needs_background": "light"
     },
     "output_type": "display_data"
    }
   ],
   "source": [
    "#---------------------------------Reference Noise---------------------------------\n",
    "#For different Period RF spoiling, Noise added to the F-state is: 1/sqr(N)*5%*F0 with T2* = 33ms, TR = 6ms\n",
    "TR_ref = 6e-3\n",
    "TR_list_ref = [TR_ref*1e3] * Nr\n",
    "TE_ref = TR_ref/2\n",
    "T2s_ref = 33\n",
    "T2p_ref = 1/((1000/T2s_ref)-1/T2)\n",
    "\n",
    "off_resonance_f, M_transverse =  blochc(off_res, off_res_samplesize, M0 = M0 , alpha = alpha, phi = phi, dphi = dphi, TR= TR_list_ref, TE= TE_ref*1e3, T1 = T1*1e3, T2 = T2*1e3)\n",
    "F_magnitude_inhomo, F_state = AddfieldInhomogeneous(M_transverse, TR_ref, TE_ref, T2p_ref, off_resonance_f)\n",
    "\n",
    "plt.figure(1)\n",
    "plt.plot(F_state, np.absolute(F_magnitude_inhomo[0,:]))\n",
    "plt.xlim(-25, 25)\n",
    "F0_ref = np.abs(F_magnitude_inhomo[0,np.where(F_state == int(2))])\n",
    "\n",
    "Noise_sd = 1/np.sqrt(Period)*F0_ref*0.05\n",
    "Noise = np.random.normal(0,Noise_sd,(testnumber,off_res_samplesize)) + 1j*np.random.normal(0,Noise_sd,(testnumber,off_res_samplesize))\n",
    "\n",
    "\n",
    "#---------------------------------Simulation---------------------------------\n",
    "ErrorMeanfigdata = np.asarray(np.zeros((1,np.shape(T2p)[0])), dtype = float)\n",
    "Errorstdfigdata = np.asarray(np.zeros((1,np.shape(T2p)[0])), dtype = float)\n",
    "Biasfigdata = np.asarray(np.zeros((1,np.shape(T2p)[0])), dtype = float)\n",
    "Meanfigdata = np.asarray(np.zeros((1,np.shape(T2p)[0])), dtype = float)\n",
    "#All_Data = np.asarray([], dtype = float) \n",
    "number = 0\n",
    "\n",
    "for tr in TR:\n",
    "    #Simulate Data\n",
    "    #Generate bSSFP off-resonance profile using Bloch simulation \n",
    "    TR_list = [tr *1e3] * Nr \n",
    "    TE = tr/2\n",
    "\n",
    "    off_resonance_f, M_transverse =  blochc(off_res, off_res_samplesize, M0 = M0 , alpha = alpha, phi = phi, dphi = dphi, TR= TR_list, TE= TE*1e3, T1 = T1*1e3, T2 = T2*1e3)\n",
    "    off_resonance_f = off_resonance_f/2\n",
    "    # plt.figure(2)\n",
    "    # plt.plot(off_resonance_f, np.abs(M_transverse))\n",
    "    \n",
    "    #Add Field inhomogeneous and Noise\n",
    "    #Data is an Array contain (T2*num, noise num, off-res f num)\n",
    "    Data, T2Star_GT = quadratic_RFspoiling_bSSFP (T1, T2, int(1/tr), tr, tr/2, tip_angle, Period, M0, Nr, M_transverse, off_resonance_f, T2p, testnumber, AddNoise, Noise)\n",
    "    \n",
    "    \n",
    "    #np.save(\"TwelvePeriodData_\"+str(tr)+\"_0.01Noise.npy\", Data)\n",
    "    #Data = np.load(\"./DataNpy/SixPeriod_0.01/SixPeriodData_\"+str(round(tr, 2-int(floor(log10(abs(tr))))-1))+\"_.npy\")\n",
    "    \n",
    "    #---------------------------------Fit T2*---------------------------------\n",
    "    Mean, Errorstd, Bias = T2StarFit(Data, T2Star_GT, Period, tr)\n",
    "    #figurex = DrawT2StarGraph(Data, T2Star_GT, Period, tr)\n",
    "    #Store data for the map\n",
    "    Mean = Mean.reshape(1,np.shape(T2Star_GT)[0])\n",
    "    ErrorMean = Mean-T2Star_GT\n",
    "    Errorstd = Errorstd.reshape(1,np.shape(T2Star_GT)[0])\n",
    "    Bias = Bias.reshape(1,np.shape(T2Star_GT)[0])\n",
    "    ErrorMeanfigdata = np.append(ErrorMeanfigdata, ErrorMean, axis = 0)\n",
    "    Errorstdfigdata = np.append(Errorstdfigdata, Errorstd, axis = 0)\n",
    "    Biasfigdata = np.append(Biasfigdata, Bias, axis = 0)\n",
    "    Meanfigdata = np.append(Meanfigdata, Mean, axis = 0)\n",
    "    \n",
    "    \n",
    "    print(tr)\n",
    "ErrorMeanfigdata = np.delete(ErrorMeanfigdata,0,0)\n",
    "Errorstdfigdata = np.delete(Errorstdfigdata,0,0)\n",
    "Biasfigdata = np.delete(Biasfigdata,0,0)\n",
    "Meanfigdata = np.delete(Meanfigdata,0,0)"
   ]
  },
  {
   "cell_type": "code",
   "execution_count": 71,
   "id": "f80fedce-a2f0-4c59-b9cd-909bcb9f98b2",
   "metadata": {},
   "outputs": [],
   "source": [
    "np.save(\"./SimulationResults/\"+str(Period)+\"Period_0.05Noise_\"+str(TR_n)+\"TRs/\"+str(Period)+\"PeriodData_0.05Noise_ErrorMean.npy\", ErrorMeanfigdata)\n",
    "np.save(\"./SimulationResults/\"+str(Period)+\"Period_0.05Noise_\"+str(TR_n)+\"TRs/\"+str(Period)+\"PeriodData_0.05Noise_Errorstd.npy\", Errorstdfigdata)\n",
    "np.save(\"./SimulationResults/\"+str(Period)+\"Period_0.05Noise_\"+str(TR_n)+\"TRs/\"+str(Period)+\"PeriodData_0.05Noise_Bias.npy\", Biasfigdata)\n",
    "np.save(\"./SimulationResults/\"+str(Period)+\"Period_0.05Noise_\"+str(TR_n)+\"TRs/\"+str(Period)+\"PeriodData_0.05Noise_Mean.npy\", Meanfigdata)"
   ]
  },
  {
   "cell_type": "markdown",
   "id": "0ffa99d8-1acb-4464-ae20-e52c7d4d2d66",
   "metadata": {},
   "source": [
    "# Visualise the RF spoiling phase angle"
   ]
  },
  {
   "cell_type": "code",
   "execution_count": 57,
   "id": "3aadff23-4d65-442d-abbd-b941fbb3659a",
   "metadata": {},
   "outputs": [
    {
     "name": "stdout",
     "output_type": "stream",
     "text": [
      "0.0\n",
      "25.714285714285715\n",
      "102.85714285714286\n",
      "231.42857142857142\n",
      "51.428571428571445\n",
      "282.8571428571429\n",
      "205.71428571428567\n"
     ]
    },
    {
     "data": {
      "image/png": "[encoded data removed]",
      "text/plain": [
       "<Figure size 432x288 with 1 Axes>"
      ]
     },
     "metadata": {
      "needs_background": "light"
     },
     "output_type": "display_data"
    }
   ],
   "source": [
    "#Visualise the RF quadratic spoiling angle\n",
    "Period = 7\n",
    "\n",
    "fig = plt.figure()\n",
    "ax = fig.add_subplot(1,1,1)\n",
    "V = np.asarray([[0,0]], dtype = float)\n",
    "for i in range (0,Period):\n",
    "    p = QuadraticPhase(Period,i)\n",
    "    phaseshift_rad = np.radians(p-(p//360))\n",
    "    tmp = p \n",
    "    tmp = tmp % 360\n",
    "    print(tmp)\n",
    "    #line_1 = plt.Line2D([0,math.cos(phaseshift_rad)], [0,math.sin(phaseshift_rad)], linewidth=1, linestyle = \"-\", label = i)\n",
    "    #ax.add_line(line_1)\n",
    "\n",
    "    V = np.append(V,[[math.cos(phaseshift_rad),math.sin(phaseshift_rad)]], axis =0)\n",
    "    \n",
    "\n",
    "V = np.delete(V, 0,0)\n",
    "# origin = np.array(np.zeros((2,Period))) # origin point\n",
    "# plt.quiver(*origin, V[:,0], V[:,1], scale=5)\n",
    "# plt.show()\n",
    "\n",
    "# ax.set(xlim=[-1,1])\n",
    "# ax.set(ylim=[-1,1])\n",
    "#print(V)\n",
    "\n",
    "rows,cols =V.T.shape\n",
    "\n",
    "#Get absolute maxes for axis ranges to center origin\n",
    "#This is optional\n",
    "maxes = 1.1*np.amax(abs(V), axis = 0)\n",
    "\n",
    "for i,l in enumerate(range(0,cols)):\n",
    "    xs = [0,V[i,0]]\n",
    "    ys = [0,V[i,1]]\n",
    "    plt.plot(xs,ys)\n",
    "\n",
    "plt.plot(0,0,'ok') #<-- plot a black point at the origin\n",
    "plt.axis('equal')  #<-- set the axes to the same scale\n",
    "plt.xlim([-1,1]) #<-- set the x axis limits\n",
    "plt.ylim([-1,1]) #<-- set the y axis limits\n",
    "plt.legend(['V'+str(i+1) for i in range(cols)]) #<-- give a legend\n",
    "plt.grid(True) #<-- plot grid lines\n",
    "plt.show()"
   ]
  },
  {
   "cell_type": "markdown",
   "id": "0af4bd51-d908-4fe5-8831-fd486c3fb49f",
   "metadata": {
    "tags": []
   },
   "source": [
    "## "
   ]
  }
 ],
 "metadata": {
  "kernelspec": {
   "display_name": "Python 3 (ipykernel)",
   "language": "python",
   "name": "python3"
  },
  "language_info": {
   "codemirror_mode": {
    "name": "ipython",
    "version": 3
   },
   "file_extension": ".py",
   "mimetype": "text/x-python",
   "name": "python",
   "nbconvert_exporter": "python",
   "pygments_lexer": "ipython3",
   "version": "3.10.2"
  },
  "vscode": {
   "interpreter": {
    "hash": "a546b40ba1898f01afe97c1c4de9a203aeab0d16f1ac071b40cc8345119c215d"
   }
  }
 },
 "nbformat": 4,
 "nbformat_minor": 5
}
