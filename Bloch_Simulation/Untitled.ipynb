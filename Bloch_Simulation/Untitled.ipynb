{
 "cells": [
  {
   "cell_type": "code",
   "execution_count": 2,
   "id": "055d5597-01c1-47c2-bada-111da7bdf45d",
   "metadata": {},
   "outputs": [
    {
     "name": "stdout",
     "output_type": "stream",
     "text": [
      "Hello world\n"
     ]
    }
   ],
   "source": [
    "print(\"Hello world\")"
   ]
  },
  {
   "cell_type": "code",
   "execution_count": 9,
   "id": "9d94b681-5bbd-4a17-b776-549a93e61646",
   "metadata": {},
   "outputs": [
    {
     "name": "stdout",
     "output_type": "stream",
     "text": [
      "his name is \n",
      "\" John, age 35\n",
      "35\n"
     ]
    }
   ],
   "source": [
    "character_name = \"John\"\n",
    "character_age = 35\n",
    "print(\"his name is \\n\\\" \"+ character_name +\", age \" + str(character_age))\n",
    "print(character_age)"
   ]
  },
  {
   "cell_type": "code",
   "execution_count": 13,
   "id": "285285a0-c779-4670-829c-0140965eb11a",
   "metadata": {},
   "outputs": [
    {
     "name": "stdin",
     "output_type": "stream",
     "text": [
      "Enter: Me\n"
     ]
    },
    {
     "name": "stdout",
     "output_type": "stream",
     "text": [
      "HiMe\n"
     ]
    }
   ],
   "source": [
    "name = input(\"Enter:\")\n",
    "print(\"Hi\"+name)"
   ]
  },
  {
   "cell_type": "code",
   "execution_count": 21,
   "id": "dbded4d7-655e-4a09-a066-28c02c250369",
   "metadata": {},
   "outputs": [
    {
     "name": "stdin",
     "output_type": "stream",
     "text": [
      "Enter a number: 1\n",
      "Enter a number: 5\n"
     ]
    },
    {
     "data": {
      "text/plain": [
       "6"
      ]
     },
     "execution_count": 21,
     "metadata": {},
     "output_type": "execute_result"
    }
   ],
   "source": [
    "num1 = int(input(\"Enter a number:\"))\n",
    "num2 = int(input(\"Enter a number:\"))\n",
    "result = num1 + num2\n",
    "result"
   ]
  },
  {
   "cell_type": "code",
   "execution_count": 34,
   "id": "5372ee00-86a3-4d21-bc42-d07093a9977a",
   "metadata": {},
   "outputs": [
    {
     "data": {
      "text/plain": [
       "['B', 'C', 'D', 'E']"
      ]
     },
     "execution_count": 34,
     "metadata": {},
     "output_type": "execute_result"
    }
   ],
   "source": [
    "#list\n",
    "listA = [\"A\",\"B\",\"C\",\"D\",\"E\",\"F\"]\n",
    "listA[1:-1]\n",
    "\n"
   ]
  },
  {
   "cell_type": "code",
   "execution_count": 38,
   "id": "715c4207-1ed7-4e25-9436-90cc94e4cf4e",
   "metadata": {},
   "outputs": [],
   "source": [
    "def function1(name):\n",
    "    print(\"hi\")\n",
    "    print(\"yes\")\n",
    "    \n",
    "    return f\"hi {name}\"\n",
    "\n",
    "    \n"
   ]
  },
  {
   "cell_type": "code",
   "execution_count": 41,
   "id": "23d961b2-8633-4df0-92f6-e6af255bd390",
   "metadata": {},
   "outputs": [
    {
     "name": "stdout",
     "output_type": "stream",
     "text": [
      "hi\n",
      "yes\n"
     ]
    },
    {
     "data": {
      "text/plain": [
       "'hi Jenni'"
      ]
     },
     "execution_count": 41,
     "metadata": {},
     "output_type": "execute_result"
    }
   ],
   "source": [
    "message = function1(\"Jenni\")\n",
    "message"
   ]
  },
  {
   "cell_type": "code",
   "execution_count": null,
   "id": "17b58e93-a7d4-4deb-9aa9-f75da76e04da",
   "metadata": {},
   "outputs": [],
   "source": []
  }
 ],
 "metadata": {
  "kernelspec": {
   "display_name": "Python 3 (ipykernel)",
   "language": "python",
   "name": "python3"
  },
  "language_info": {
   "codemirror_mode": {
    "name": "ipython",
    "version": 3
   },
   "file_extension": ".py",
   "mimetype": "text/x-python",
   "name": "python",
   "nbconvert_exporter": "python",
   "pygments_lexer": "ipython3",
   "version": "3.10.2"
  }
 },
 "nbformat": 4,
 "nbformat_minor": 5
}
